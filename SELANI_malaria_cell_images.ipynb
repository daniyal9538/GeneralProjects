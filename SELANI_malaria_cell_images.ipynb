{
  "nbformat": 4,
  "nbformat_minor": 0,
  "metadata": {
    "colab": {
      "name": "SELANI_malaria_cell_images.ipynb",
      "version": "0.3.2",
      "provenance": [],
      "include_colab_link": true
    },
    "kernelspec": {
      "name": "python3",
      "display_name": "Python 3"
    },
    "accelerator": "GPU"
  },
  "cells": [
    {
      "cell_type": "markdown",
      "metadata": {
        "id": "view-in-github",
        "colab_type": "text"
      },
      "source": [
        "<a href=\"https://colab.research.google.com/github/daniyal9538/GeneralProjects/blob/master/SELANI_malaria_cell_images.ipynb\" target=\"_parent\"><img src=\"https://colab.research.google.com/assets/colab-badge.svg\" alt=\"Open In Colab\"/></a>"
      ]
    },
    {
      "cell_type": "markdown",
      "metadata": {
        "id": "me3jamevSD7I",
        "colab_type": "text"
      },
      "source": [
        "#NOTE:\n",
        "Even though training and test data was provided seperately, the test data is without labels, hence it could not be used to assertain the accuracy of the models"
      ]
    },
    {
      "cell_type": "markdown",
      "metadata": {
        "id": "xZ3ONezzsy6M",
        "colab_type": "text"
      },
      "source": [
        "#Get Data"
      ]
    },
    {
      "cell_type": "code",
      "metadata": {
        "id": "2wUCMejCCE46",
        "colab_type": "code",
        "outputId": "033b5d6d-30a3-411b-f6d1-54ec1cdffff8",
        "colab": {
          "resources": {
            "http://localhost:8080/nbextensions/google.colab/files.js": {
              "data": "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",
              "ok": true,
              "headers": [
                [
                  "content-type",
                  "application/javascript"
                ]
              ],
              "status": 200,
              "status_text": ""
            }
          },
          "base_uri": "https://localhost:8080/",
          "height": 91
        }
      },
      "source": [
        "from google.colab import files\n",
        "\n",
        "uploaded = files.upload()\n",
        "\n",
        "for fn in uploaded.keys():\n",
        "  print('User uploaded file \"{name}\" with length {length} bytes'.format(\n",
        "      name=fn, length=len(uploaded[fn])))"
      ],
      "execution_count": 0,
      "outputs": [
        {
          "output_type": "display_data",
          "data": {
            "text/html": [
              "\n",
              "     <input type=\"file\" id=\"files-a2b44b81-adf9-4faa-90f4-e8896e31abb1\" name=\"files[]\" multiple disabled />\n",
              "     <output id=\"result-a2b44b81-adf9-4faa-90f4-e8896e31abb1\">\n",
              "      Upload widget is only available when the cell has been executed in the\n",
              "      current browser session. Please rerun this cell to enable.\n",
              "      </output>\n",
              "      <script src=\"/nbextensions/google.colab/files.js\"></script> "
            ],
            "text/plain": [
              "<IPython.core.display.HTML object>"
            ]
          },
          "metadata": {
            "tags": []
          }
        },
        {
          "output_type": "stream",
          "text": [
            "Saving kaggle.json to kaggle (1).json\n",
            "User uploaded file \"kaggle.json\" with length 67 bytes\n"
          ],
          "name": "stdout"
        }
      ]
    },
    {
      "cell_type": "code",
      "metadata": {
        "id": "l1F_8-XlCtOf",
        "colab_type": "code",
        "colab": {}
      },
      "source": [
        "!pip install -q kaggle\n",
        "!mkdir -p ~/.kaggle\n",
        "!cp kaggle.json ~/.kaggle/\n",
        "!kaggle datasets download -d iarunava/cell-images-for-detecting-malaria -p /content\n",
        "!unzip \\*.zip"
      ],
      "execution_count": 0,
      "outputs": []
    },
    {
      "cell_type": "markdown",
      "metadata": {
        "id": "LYIqzB68s1Sj",
        "colab_type": "text"
      },
      "source": [
        "#Get dependencies"
      ]
    },
    {
      "cell_type": "code",
      "metadata": {
        "id": "scDq4bCdDaGN",
        "colab_type": "code",
        "outputId": "647ecf36-7ed2-4642-f7a2-0363977f771e",
        "colab": {
          "base_uri": "https://localhost:8080/",
          "height": 33
        }
      },
      "source": [
        "import keras\n",
        "from keras.layers import Dense, Conv2D\n",
        "from keras.layers import Flatten\n",
        "from keras.layers import MaxPooling2D, GlobalAveragePooling2D\n",
        "from keras.layers import Activation\n",
        "from keras.layers import BatchNormalization\n",
        "from keras.layers import Dropout\n",
        "from keras.models import Sequential\n",
        "from keras import backend as K\n",
        "from sklearn.model_selection import train_test_split\n",
        "from keras import optimizers\n",
        "import cv2\n",
        "import matplotlib.pyplot as plt \n",
        "import seaborn as sns\n",
        "import os\n",
        "from PIL import Image\n",
        "from keras.preprocessing.image import img_to_array\n",
        "from keras.preprocessing.image import load_img\n",
        "from keras.utils import np_utils\n",
        "import numpy as np \n",
        "import pandas as pd \n"
      ],
      "execution_count": 0,
      "outputs": [
        {
          "output_type": "stream",
          "text": [
            "Using TensorFlow backend.\n"
          ],
          "name": "stderr"
        }
      ]
    },
    {
      "cell_type": "markdown",
      "metadata": {
        "id": "fmkKSW7Ms349",
        "colab_type": "text"
      },
      "source": [
        "#Prepare Data"
      ]
    },
    {
      "cell_type": "code",
      "metadata": {
        "id": "OgbNjLOcErca",
        "colab_type": "code",
        "colab": {}
      },
      "source": [
        "parasitized_data = os.listdir('../content/cell_images/Parasitized')\n",
        "\n",
        "\n",
        "uninfected_data = os.listdir('../content/cell_images/Uninfected')\n"
      ],
      "execution_count": 0,
      "outputs": []
    },
    {
      "cell_type": "code",
      "metadata": {
        "id": "DyGIqtm4FD-S",
        "colab_type": "code",
        "colab": {}
      },
      "source": [
        "data = []\n",
        "labels = []\n",
        "for img in parasitized_data:\n",
        "    try:\n",
        "        img_read = plt.imread('../content/cell_images/Parasitized' + \"/\" + img)\n",
        "        img_resize = cv2.resize(img_read, (50, 50))\n",
        "        img_array = img_to_array(img_resize)\n",
        "        data.append(img_array)\n",
        "        labels.append(1)\n",
        "    except:\n",
        "        None\n",
        "        \n",
        "for img in uninfected_data:\n",
        "    try:\n",
        "        img_read = plt.imread('../content/cell_images/Uninfected' + \"/\" + img)\n",
        "        img_resize = cv2.resize(img_read, (50, 50))\n",
        "        img_array = img_to_array(img_resize)\n",
        "        data.append(img_array)\n",
        "        labels.append(0)\n",
        "    except:\n",
        "        None"
      ],
      "execution_count": 0,
      "outputs": []
    },
    {
      "cell_type": "code",
      "metadata": {
        "id": "6AOPNh_tFSQI",
        "colab_type": "code",
        "colab": {}
      },
      "source": [
        "\n",
        "X_train, X_test, y_train, y_test = train_test_split(data, labels, test_size = 0.2, random_state = 10)"
      ],
      "execution_count": 0,
      "outputs": []
    },
    {
      "cell_type": "markdown",
      "metadata": {
        "id": "v3ZAYm2OtFfj",
        "colab_type": "text"
      },
      "source": [
        "As per advise from the professor, it is better to deal with a classification problem if the classes are in a one hot encoded array"
      ]
    },
    {
      "cell_type": "code",
      "metadata": {
        "id": "rnpFIzGtFN2B",
        "colab_type": "code",
        "colab": {}
      },
      "source": [
        "y_train = np_utils.to_categorical(y_train, num_classes = 2)\n",
        "y_test = np_utils.to_categorical(y_test, num_classes = 2)"
      ],
      "execution_count": 0,
      "outputs": []
    },
    {
      "cell_type": "code",
      "metadata": {
        "id": "xuKSvv2Pn6uB",
        "colab_type": "code",
        "colab": {}
      },
      "source": [
        "width = X_train[0].shape[1]\n",
        "height = X_train[0].shape[0]\n",
        "channels = X_train[0].shape[2]\n",
        "classes = y_train[0].shape[0]"
      ],
      "execution_count": 0,
      "outputs": []
    },
    {
      "cell_type": "markdown",
      "metadata": {
        "id": "r3nABjjts6V8",
        "colab_type": "text"
      },
      "source": [
        "The widht, height, and number of channels of input image, and the number of classes (Binary Classification)"
      ]
    },
    {
      "cell_type": "code",
      "metadata": {
        "id": "3WxxL1IbGciy",
        "colab_type": "code",
        "outputId": "c2f5d60f-740a-4c08-e76e-0b65dcbb5a4e",
        "colab": {
          "base_uri": "https://localhost:8080/",
          "height": 33
        }
      },
      "source": [
        "width, height, channels, classes"
      ],
      "execution_count": 0,
      "outputs": [
        {
          "output_type": "execute_result",
          "data": {
            "text/plain": [
              "(50, 50, 3, 2)"
            ]
          },
          "metadata": {
            "tags": []
          },
          "execution_count": 9
        }
      ]
    },
    {
      "cell_type": "markdown",
      "metadata": {
        "id": "pyyN16_YtQN8",
        "colab_type": "text"
      },
      "source": [
        "The input data has to be a np array in order for keras to accept it"
      ]
    },
    {
      "cell_type": "code",
      "metadata": {
        "id": "XDOzCj-PqOUi",
        "colab_type": "code",
        "colab": {}
      },
      "source": [
        "X_train = np.array(X_train)"
      ],
      "execution_count": 0,
      "outputs": []
    },
    {
      "cell_type": "markdown",
      "metadata": {
        "id": "Uw7eyM7-uDVc",
        "colab_type": "text"
      },
      "source": [
        "#Fitting to CNN"
      ]
    },
    {
      "cell_type": "markdown",
      "metadata": {
        "id": "QsIegM9otUw7",
        "colab_type": "text"
      },
      "source": [
        "Owing to the small size of image, convolution and pooling windows are kept small\n",
        "The normalization and dropout layers are added after consulting the kernels and discussions present for this dataset\n",
        "Accuracy goes from ~85% to ~96% after adding normalization layers\n",
        "The arrangement of covolution and pooling layers with a dense layer at the end was done after reading the paper on AlexNet\n"
      ]
    },
    {
      "cell_type": "code",
      "metadata": {
        "id": "u0GiV4bhopyi",
        "colab_type": "code",
        "colab": {}
      },
      "source": [
        "model = Sequential()\n",
        "    \n",
        "inputShape = (height, width, channels)\n",
        "chanDim = -1\n",
        "\n",
        "model.add(Conv2D(32, (3,3), activation = 'relu', input_shape = inputShape))\n",
        "model.add(MaxPooling2D(2,2))\n",
        "model.add(BatchNormalization(axis = chanDim))\n",
        "model.add(Dropout(0.2))\n",
        "\n",
        "model.add(Conv2D(32, (3,3), activation = 'relu'))\n",
        "model.add(MaxPooling2D(2,2))\n",
        "model.add(BatchNormalization(axis = chanDim))\n",
        "model.add(Dropout(0.2))\n",
        "\n",
        "model.add(Conv2D(32, (3,3), activation = 'relu'))\n",
        "model.add(MaxPooling2D(2,2))\n",
        "model.add(BatchNormalization(axis = chanDim))\n",
        "model.add(Dropout(0.2))\n",
        "model.add(Flatten())\n",
        "\n",
        "model.add(Dense(512, activation = 'relu'))\n",
        "model.add(BatchNormalization(axis = chanDim))\n",
        "model.add(Dropout(0.5))\n",
        "model.add(Dense(classes, activation = 'softmax'))\n",
        "  \n"
      ],
      "execution_count": 0,
      "outputs": []
    },
    {
      "cell_type": "markdown",
      "metadata": {
        "id": "Zduf1tRY51fg",
        "colab_type": "text"
      },
      "source": [
        "Train model, get validation accuracy and plot training graph"
      ]
    },
    {
      "cell_type": "code",
      "metadata": {
        "id": "qW6P8Bewo_zP",
        "colab_type": "code",
        "outputId": "18f81571-f79c-4e2a-9505-201fb98df8e0",
        "colab": {
          "base_uri": "https://localhost:8080/",
          "height": 686
        }
      },
      "source": [
        "model.compile(loss = 'categorical_crossentropy', optimizer = 'Adam', metrics = ['accuracy'])\n",
        "CNN = model.fit(X_train, y_train, epochs = 20, batch_size = 32)"
      ],
      "execution_count": 0,
      "outputs": [
        {
          "output_type": "stream",
          "text": [
            "Epoch 1/20\n",
            "22046/22046 [==============================] - 8s 349us/step - loss: 0.5205 - acc: 0.7928\n",
            "Epoch 2/20\n",
            "22046/22046 [==============================] - 6s 285us/step - loss: 0.2203 - acc: 0.9179\n",
            "Epoch 3/20\n",
            "22046/22046 [==============================] - 6s 283us/step - loss: 0.1884 - acc: 0.9355\n",
            "Epoch 4/20\n",
            "22046/22046 [==============================] - 6s 283us/step - loss: 0.1729 - acc: 0.9402\n",
            "Epoch 5/20\n",
            "22046/22046 [==============================] - 6s 284us/step - loss: 0.1639 - acc: 0.9461\n",
            "Epoch 6/20\n",
            "22046/22046 [==============================] - 7s 321us/step - loss: 0.1610 - acc: 0.9462\n",
            "Epoch 7/20\n",
            "22046/22046 [==============================] - 7s 297us/step - loss: 0.1581 - acc: 0.9472\n",
            "Epoch 8/20\n",
            "22046/22046 [==============================] - 6s 282us/step - loss: 0.1508 - acc: 0.9513\n",
            "Epoch 9/20\n",
            "22046/22046 [==============================] - 6s 283us/step - loss: 0.1499 - acc: 0.9518\n",
            "Epoch 10/20\n",
            "22046/22046 [==============================] - 6s 283us/step - loss: 0.1502 - acc: 0.9501\n",
            "Epoch 11/20\n",
            "22046/22046 [==============================] - 6s 281us/step - loss: 0.1421 - acc: 0.9527\n",
            "Epoch 12/20\n",
            "22046/22046 [==============================] - 6s 282us/step - loss: 0.1430 - acc: 0.9528\n",
            "Epoch 13/20\n",
            "22046/22046 [==============================] - 6s 282us/step - loss: 0.1451 - acc: 0.9534\n",
            "Epoch 14/20\n",
            "22046/22046 [==============================] - 6s 284us/step - loss: 0.1397 - acc: 0.9536\n",
            "Epoch 15/20\n",
            "22046/22046 [==============================] - 6s 283us/step - loss: 0.1359 - acc: 0.9560\n",
            "Epoch 16/20\n",
            "22046/22046 [==============================] - 6s 280us/step - loss: 0.1345 - acc: 0.9560\n",
            "Epoch 17/20\n",
            "22046/22046 [==============================] - 6s 283us/step - loss: 0.1355 - acc: 0.9553\n",
            "Epoch 18/20\n",
            "22046/22046 [==============================] - 6s 294us/step - loss: 0.1306 - acc: 0.9561\n",
            "Epoch 19/20\n",
            "22046/22046 [==============================] - 7s 323us/step - loss: 0.1303 - acc: 0.9580\n",
            "Epoch 20/20\n",
            "22046/22046 [==============================] - 6s 287us/step - loss: 0.1352 - acc: 0.9554\n"
          ],
          "name": "stdout"
        }
      ]
    },
    {
      "cell_type": "code",
      "metadata": {
        "id": "fmsBTdK_sFH3",
        "colab_type": "code",
        "outputId": "1dc03544-3ca6-493e-e823-4cbd72e89da8",
        "colab": {
          "base_uri": "https://localhost:8080/",
          "height": 33
        }
      },
      "source": [
        "pred = model.evaluate(np.array(X_test), y_test)"
      ],
      "execution_count": 0,
      "outputs": [
        {
          "output_type": "stream",
          "text": [
            "5512/5512 [==============================] - 1s 129us/step\n"
          ],
          "name": "stdout"
        }
      ]
    },
    {
      "cell_type": "code",
      "metadata": {
        "id": "ikzmobQ8sKTj",
        "colab_type": "code",
        "outputId": "8db360ad-0c9e-44a1-9a2f-04ce57d7b30e",
        "colab": {
          "base_uri": "https://localhost:8080/",
          "height": 33
        }
      },
      "source": [
        "'Validation Loss and Accuracy',pred"
      ],
      "execution_count": 0,
      "outputs": [
        {
          "output_type": "execute_result",
          "data": {
            "text/plain": [
              "('Validation Loss and Accuracy', [0.12780247321582153, 0.9566400580551524])"
            ]
          },
          "metadata": {
            "tags": []
          },
          "execution_count": 28
        }
      ]
    },
    {
      "cell_type": "code",
      "metadata": {
        "id": "OIXExxOYsZmU",
        "colab_type": "code",
        "outputId": "c3606354-6e42-495c-af24-195d00ba669a",
        "colab": {
          "base_uri": "https://localhost:8080/",
          "height": 625
        }
      },
      "source": [
        "plt.figure(figsize = (15,10))\n",
        "plt.plot(range(20), CNN.history['acc'], label = 'Accuracy')\n",
        "plt.plot(range(20), CNN.history['loss'], label = 'Loss')\n",
        "#ax1.set_xticks(np.arange(0, 31, 5))\n",
        "plt.xlabel(\"Epochs\")\n",
        "plt.ylabel('Accuracy/Loss')\n",
        "\n",
        "plt.legend(loc = \"best\")"
      ],
      "execution_count": 0,
      "outputs": [
        {
          "output_type": "execute_result",
          "data": {
            "text/plain": [
              "<matplotlib.legend.Legend at 0x7fed573aa2b0>"
            ]
          },
          "metadata": {
            "tags": []
          },
          "execution_count": 30
        },
        {
          "output_type": "display_data",
          "data": {
            "image/png": "[encoded data removed]",
            "text/plain": [
              "<Figure size 1080x720 with 1 Axes>"
            ]
          },
          "metadata": {
            "tags": []
          }
        }
      ]
    },
    {
      "cell_type": "markdown",
      "metadata": {
        "id": "raUFks22xd-H",
        "colab_type": "text"
      },
      "source": [
        "#Transfer Learning"
      ]
    },
    {
      "cell_type": "markdown",
      "metadata": {
        "id": "Hu-cKkkm4pUA",
        "colab_type": "text"
      },
      "source": [
        "Going to use vgg16 as i have had experience working with this model before"
      ]
    },
    {
      "cell_type": "code",
      "metadata": {
        "id": "mneg63z7xfUD",
        "colab_type": "code",
        "colab": {}
      },
      "source": [
        "vgg16 = keras.applications.vgg16.VGG16(include_top=False,input_shape = (height, width, channels))"
      ],
      "execution_count": 0,
      "outputs": []
    },
    {
      "cell_type": "markdown",
      "metadata": {
        "id": "xZK4P5J74u0e",
        "colab_type": "text"
      },
      "source": [
        "Have to convert the keras engine training model to a sequential model so that it can be trained"
      ]
    },
    {
      "cell_type": "code",
      "metadata": {
        "id": "6c5Xhv6kxlNs",
        "colab_type": "code",
        "outputId": "5b8271e9-ef42-41b1-cc6f-1947f1f36095",
        "colab": {
          "base_uri": "https://localhost:8080/",
          "height": 33
        }
      },
      "source": [
        "type(model), type(vgg16)"
      ],
      "execution_count": 0,
      "outputs": [
        {
          "output_type": "execute_result",
          "data": {
            "text/plain": [
              "(keras.engine.sequential.Sequential, keras.engine.training.Model)"
            ]
          },
          "metadata": {
            "tags": []
          },
          "execution_count": 46
        }
      ]
    },
    {
      "cell_type": "markdown",
      "metadata": {
        "id": "Kradw5mK41xI",
        "colab_type": "text"
      },
      "source": [
        "Instantiate a new sequential mode and copy all layers from vgg16 into new model\n",
        "Remove last layer (Which has 1000 classes in it)\n",
        "Set all layers to not be trainable, so that when training over new model, we do not change the pretrained vgg16 layers\n",
        "Add a flatten and dense layer to the model\n",
        "The flatten layer flatten the output from the last vgg16 layer so it can be accepted by the new dense layer.\n",
        "If this is not done the dimension of the vectors passed between the layers is incompatible\n",
        "Add a dense layer with 2 outputs to suit over binary classification\n"
      ]
    },
    {
      "cell_type": "code",
      "metadata": {
        "id": "fluWQ8YQyFAl",
        "colab_type": "code",
        "colab": {}
      },
      "source": [
        "tmodel = Sequential()\n",
        "\n",
        "\n",
        "for layer in vgg16.layers:\n",
        "  tmodel.add(layer)\n",
        "  \n",
        "tmodel.layers.pop()\n",
        "\n",
        "for layer in tmodel.layers:\n",
        "  layer.Trainable = False\n",
        "  \n",
        "tmodel.add(Flatten())\n",
        "tmodel.add(Dense(classes, activation = 'softmax'))"
      ],
      "execution_count": 0,
      "outputs": []
    },
    {
      "cell_type": "markdown",
      "metadata": {
        "id": "6FT1mrAf5tVu",
        "colab_type": "text"
      },
      "source": [
        "Train model, get validation accuracy and plot training graph"
      ]
    },
    {
      "cell_type": "code",
      "metadata": {
        "id": "a80tkktGyoTQ",
        "colab_type": "code",
        "outputId": "3f40fdff-79e5-49b3-e7b1-5557b69f948d",
        "colab": {
          "base_uri": "https://localhost:8080/",
          "height": 686
        }
      },
      "source": [
        "tmodel.compile(loss = 'categorical_crossentropy', optimizer = 'Adam', metrics = ['accuracy'])\n",
        "transfer = tmodel.fit(X_train, y_train, epochs = 20, batch_size = 32)"
      ],
      "execution_count": 0,
      "outputs": [
        {
          "output_type": "stream",
          "text": [
            "Epoch 1/20\n",
            "22046/22046 [==============================] - 39s 2ms/step - loss: 0.2605 - acc: 0.8869\n",
            "Epoch 2/20\n",
            "22046/22046 [==============================] - 36s 2ms/step - loss: 0.1449 - acc: 0.9561\n",
            "Epoch 3/20\n",
            "22046/22046 [==============================] - 35s 2ms/step - loss: 0.1453 - acc: 0.9551\n",
            "Epoch 4/20\n",
            "22046/22046 [==============================] - 35s 2ms/step - loss: 0.1313 - acc: 0.9577\n",
            "Epoch 5/20\n",
            "22046/22046 [==============================] - 35s 2ms/step - loss: 0.1327 - acc: 0.9590\n",
            "Epoch 6/20\n",
            "22046/22046 [==============================] - 35s 2ms/step - loss: 0.1248 - acc: 0.9606\n",
            "Epoch 7/20\n",
            "22046/22046 [==============================] - 35s 2ms/step - loss: 0.1238 - acc: 0.9600\n",
            "Epoch 8/20\n",
            "22046/22046 [==============================] - 35s 2ms/step - loss: 0.1389 - acc: 0.9572\n",
            "Epoch 9/20\n",
            "22046/22046 [==============================] - 35s 2ms/step - loss: 0.1204 - acc: 0.9604\n",
            "Epoch 10/20\n",
            "22046/22046 [==============================] - 35s 2ms/step - loss: 0.1112 - acc: 0.9627\n",
            "Epoch 11/20\n",
            "22046/22046 [==============================] - 35s 2ms/step - loss: 0.1439 - acc: 0.9568\n",
            "Epoch 12/20\n",
            "22046/22046 [==============================] - 35s 2ms/step - loss: 0.1455 - acc: 0.9529\n",
            "Epoch 13/20\n",
            "22046/22046 [==============================] - 35s 2ms/step - loss: 0.1224 - acc: 0.9589\n",
            "Epoch 14/20\n",
            "22046/22046 [==============================] - 35s 2ms/step - loss: 0.1255 - acc: 0.9583\n",
            "Epoch 15/20\n",
            "22046/22046 [==============================] - 35s 2ms/step - loss: 0.1605 - acc: 0.9543\n",
            "Epoch 16/20\n",
            "22046/22046 [==============================] - 35s 2ms/step - loss: 0.1211 - acc: 0.9598\n",
            "Epoch 17/20\n",
            "22046/22046 [==============================] - 35s 2ms/step - loss: 0.1162 - acc: 0.9619\n",
            "Epoch 18/20\n",
            "22046/22046 [==============================] - 35s 2ms/step - loss: 0.1081 - acc: 0.9637\n",
            "Epoch 19/20\n",
            "22046/22046 [==============================] - 35s 2ms/step - loss: 0.1080 - acc: 0.9646\n",
            "Epoch 20/20\n",
            "22046/22046 [==============================] - 35s 2ms/step - loss: 0.1059 - acc: 0.9639\n"
          ],
          "name": "stdout"
        }
      ]
    },
    {
      "cell_type": "markdown",
      "metadata": {
        "id": "UtfJBN1wOK3S",
        "colab_type": "text"
      },
      "source": [
        "Transfer learning does not require so many epochs to be trained as most layers are already frozen. Model performs very well"
      ]
    },
    {
      "cell_type": "code",
      "metadata": {
        "id": "XzxY2cha3FI5",
        "colab_type": "code",
        "outputId": "c2a09b71-0ffb-4cba-eb45-eef7919b8019",
        "colab": {
          "base_uri": "https://localhost:8080/",
          "height": 50
        }
      },
      "source": [
        "pred = tmodel.evaluate(np.array(X_test), y_test)\n",
        "'Validation Loss and Accuracy',pred"
      ],
      "execution_count": 0,
      "outputs": [
        {
          "output_type": "stream",
          "text": [
            "5512/5512 [==============================] - 3s 541us/step\n"
          ],
          "name": "stdout"
        },
        {
          "output_type": "execute_result",
          "data": {
            "text/plain": [
              "('Validation Loss and Accuracy', [0.21986304426698233, 0.9589985486211902])"
            ]
          },
          "metadata": {
            "tags": []
          },
          "execution_count": 67
        }
      ]
    },
    {
      "cell_type": "code",
      "metadata": {
        "id": "xbyIUahA3LHv",
        "colab_type": "code",
        "outputId": "afc9401d-8394-42fb-9b21-721d9212e5f7",
        "colab": {
          "base_uri": "https://localhost:8080/",
          "height": 625
        }
      },
      "source": [
        "plt.figure(figsize = (15,10))\n",
        "plt.plot(range(20), transfer.history['acc'], label = 'Accuracy')\n",
        "plt.plot(range(20), transfer.history['loss'], label = 'Loss')\n",
        "#ax1.set_xticks(np.arange(0, 31, 5))\n",
        "plt.xlabel(\"Epochs\")\n",
        "plt.ylabel('Accuracy/Loss')\n",
        "\n",
        "plt.legend(loc = \"best\")"
      ],
      "execution_count": 0,
      "outputs": [
        {
          "output_type": "execute_result",
          "data": {
            "text/plain": [
              "<matplotlib.legend.Legend at 0x7fec8bd26550>"
            ]
          },
          "metadata": {
            "tags": []
          },
          "execution_count": 68
        },
        {
          "output_type": "display_data",
          "data": {
            "image/png": "[encoded data removed]",
            "text/plain": [
              "<Figure size 1080x720 with 1 Axes>"
            ]
          },
          "metadata": {
            "tags": []
          }
        }
      ]
    }
  ]
}