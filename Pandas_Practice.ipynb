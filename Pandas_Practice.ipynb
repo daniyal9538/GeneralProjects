{
  "nbformat": 4,
  "nbformat_minor": 0,
  "metadata": {
    "colab": {
      "name": "Pandas Practice.ipynb",
      "version": "0.3.2",
      "provenance": [],
      "collapsed_sections": [],
      "include_colab_link": true
    },
    "kernelspec": {
      "name": "python3",
      "display_name": "Python 3"
    },
    "accelerator": "GPU"
  },
  "cells": [
    {
      "cell_type": "markdown",
      "metadata": {
        "id": "view-in-github",
        "colab_type": "text"
      },
      "source": [
        "<a href=\"https://colab.research.google.com/github/daniyal9538/GeneralProjects/blob/master/Pandas_Practice.ipynb\" target=\"_parent\"><img src=\"https://colab.research.google.com/assets/colab-badge.svg\" alt=\"Open In Colab\"/></a>"
      ]
    },
    {
      "metadata": {
        "id": "_NvVL1vHgS7f",
        "colab_type": "text"
      },
      "cell_type": "markdown",
      "source": [
        "#Using Pandas for Data Analysis and Manipulation"
      ]
    },
    {
      "metadata": {
        "id": "x48vtFi2gYUl",
        "colab_type": "text"
      },
      "cell_type": "markdown",
      "source": [
        "I will be using panda to do analysis and answer some questions. The dataset uploaded is taken from \"http://stat-computing.org/dataexpo/2009/2008.csv.bz2\".\n",
        "The questions are from a mlcourse.ai session.\n",
        "\n",
        "I will post the questions, and a basic understanding of what the question is asking. Then i will post the code and explanation of the code itself. Explanation of the code will be in the from of comments in the code block"
      ]
    },
    {
      "metadata": {
        "id": "TdzCReXlnlC-",
        "colab_type": "text"
      },
      "cell_type": "markdown",
      "source": [
        "#Install and get dependencies"
      ]
    },
    {
      "metadata": {
        "id": "lWe05sOaV8bg",
        "colab_type": "code",
        "outputId": "8a03268e-59cc-4798-eaf2-134e0a1e204d",
        "colab": {
          "base_uri": "https://localhost:8080/",
          "height": 101
        }
      },
      "cell_type": "code",
      "source": [
        "!pip install pandas"
      ],
      "execution_count": 0,
      "outputs": [
        {
          "output_type": "stream",
          "text": [
            "Requirement already satisfied: pandas in /usr/local/lib/python3.6/dist-packages (0.22.0)\n",
            "Requirement already satisfied: numpy>=1.9.0 in /usr/local/lib/python3.6/dist-packages (from pandas) (1.14.6)\n",
            "Requirement already satisfied: pytz>=2011k in /usr/local/lib/python3.6/dist-packages (from pandas) (2018.9)\n",
            "Requirement already satisfied: python-dateutil>=2 in /usr/local/lib/python3.6/dist-packages (from pandas) (2.5.3)\n",
            "Requirement already satisfied: six>=1.5 in /usr/local/lib/python3.6/dist-packages (from python-dateutil>=2->pandas) (1.11.0)\n"
          ],
          "name": "stdout"
        }
      ]
    },
    {
      "metadata": {
        "id": "ibLCu5rIV_up",
        "colab_type": "code",
        "colab": {}
      },
      "cell_type": "code",
      "source": [
        "import numpy as np\n",
        "import pandas as pd\n",
        "# pip install seaborn \n",
        "#import seaborn as sns\n",
        "import matplotlib.pyplot as plt"
      ],
      "execution_count": 0,
      "outputs": []
    },
    {
      "metadata": {
        "id": "ah52OQdFnn1N",
        "colab_type": "text"
      },
      "cell_type": "markdown",
      "source": [
        "#Upload file"
      ]
    },
    {
      "metadata": {
        "id": "3WvEfGcopFxd",
        "colab_type": "text"
      },
      "cell_type": "markdown",
      "source": [
        "Run this code block to upload the downloaded file from your local pc on to this notebook"
      ]
    },
    {
      "metadata": {
        "id": "78h8aRMEWCpa",
        "colab_type": "code",
        "outputId": "56db6e0d-3f3c-441d-f361-d63128a3c6c3",
        "colab": {
          "resources": {
            "http://localhost:8080/nbextensions/google.colab/files.js": {
              "data": "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",
              "ok": true,
              "headers": [
                [
                  "content-type",
                  "application/javascript"
                ]
              ],
              "status": 200,
              "status_text": ""
            }
          },
          "base_uri": "https://localhost:8080/",
          "height": 41
        }
      },
      "cell_type": "code",
      "source": [
        "from google.colab import files\n",
        "\n",
        "uploaded = files.upload()\n",
        "\n",
        "for fn in uploaded.keys():\n",
        "  print('User uploaded file \"{name}\" with length {length} bytes'.format(\n",
        "      name=fn, length=len(uploaded[fn])))\n",
        " "
      ],
      "execution_count": 0,
      "outputs": [
        {
          "output_type": "display_data",
          "data": {
            "text/html": [
              "\n",
              "     <input type=\"file\" id=\"files-514907bc-031a-4763-92d1-f2fe5fee280c\" name=\"files[]\" multiple disabled />\n",
              "     <output id=\"result-514907bc-031a-4763-92d1-f2fe5fee280c\">\n",
              "      Upload widget is only available when the cell has been executed in the\n",
              "      current browser session. Please rerun this cell to enable.\n",
              "      </output>\n",
              "      <script src=\"/nbextensions/google.colab/files.js\"></script> "
            ],
            "text/plain": [
              "<IPython.core.display.HTML object>"
            ]
          },
          "metadata": {
            "tags": []
          }
        }
      ]
    },
    {
      "metadata": {
        "id": "NOrPtD_4nvNN",
        "colab_type": "text"
      },
      "cell_type": "markdown",
      "source": [
        "#Load file into a pandas dataframe"
      ]
    },
    {
      "metadata": {
        "id": "6hxgR5auoAVl",
        "colab_type": "text"
      },
      "cell_type": "markdown",
      "source": [
        "The first thing we need to do is specify what data do we want to work with from our dataset. The datafile is in the form of a csv file, and it represents a table. Each row is 1 entry and has multiple columns. Each columns describes some attribute of the data. We do not need all those attributes, hence we first describe a variable which specifies which columns we want and what the data types of those values are. The names of the values and columns have to be exactly the same.\n",
        "We will store this infromation in a variable called dtype. This variable is a python dict."
      ]
    },
    {
      "metadata": {
        "id": "HKGvjVzSn5v_",
        "colab_type": "code",
        "colab": {}
      },
      "cell_type": "code",
      "source": [
        "dtype = {'DayOfWeek': np.uint8, 'DayofMonth': np.uint8, 'Month': np.uint8 , \n",
        "         'Cancelled': np.uint8, 'Year': np.uint16, 'FlightNum': np.uint16 , \n",
        "         'Distance': np.uint16, 'UniqueCarrier': str, 'CancellationCode': str, \n",
        "         'Origin': str, 'Dest': str, 'ArrDelay': np.float16, \n",
        "         'DepDelay': np.float16, 'CarrierDelay': np.float16, \n",
        "         'WeatherDelay': np.float16, 'NASDelay': np.float16, \n",
        "         'SecurityDelay': np.float16, 'LateAircraftDelay': np.float16, \n",
        "         'DepTime': np.float16}"
      ],
      "execution_count": 0,
      "outputs": []
    },
    {
      "metadata": {
        "id": "DuKikkRio8Zd",
        "colab_type": "text"
      },
      "cell_type": "markdown",
      "source": [
        "Next we load the csv file into a pandas dataframe. We specify the 'path', or the name of the file, and store it into a variable called fdf (flights-dataframe), and we pass in this value to the read_csv function\n",
        "We also pass in the 2 other parameters. Th first parameter, usecols, specifies which colomuns we want from our csv file, we specify that we want the keys (column names) from our dtype variables. The second parameter is dtype, it specifies the type of those values. I.e, whether to store the values as string or integers or floats."
      ]
    },
    {
      "metadata": {
        "id": "rwQa5BZxpRZH",
        "colab_type": "code",
        "outputId": "dc735870-9e94-4ee0-d310-6ad316816d21",
        "colab": {
          "base_uri": "https://localhost:8080/",
          "height": 50
        }
      },
      "cell_type": "code",
      "source": [
        "%%time\n",
        "# change the path if needed\n",
        "#the file is compressed but pandas will decompress it itself, no need to deconpress the file seperately\n",
        "path = '2008.csv.bz2'\n",
        "fdf = pd.read_csv(path, usecols=dtype.keys(), dtype=dtype)"
      ],
      "execution_count": 0,
      "outputs": [
        {
          "output_type": "stream",
          "text": [
            "CPU times: user 41.5 s, sys: 721 ms, total: 42.2 s\n",
            "Wall time: 42.2 s\n"
          ],
          "name": "stdout"
        }
      ]
    },
    {
      "metadata": {
        "id": "vieURVaAqQQ_",
        "colab_type": "text"
      },
      "cell_type": "markdown",
      "source": [
        "We should find out what our data looks like. Read along in the comments in the code block below."
      ]
    },
    {
      "metadata": {
        "id": "Whs_snDbqPov",
        "colab_type": "code",
        "outputId": "d0f70ac9-55be-4672-b7ed-a047814faa1b",
        "colab": {
          "base_uri": "https://localhost:8080/",
          "height": 118
        }
      },
      "cell_type": "code",
      "source": [
        "print(fdf.shape) \n",
        "#this will give us the 'length'and 'width' of our table, i.e, the number of rows and columns\n",
        "#the number of rows define the number of enteries in the table, the number of columns are the number of attributes of each entry \n",
        "#Which is the same as the number of columsn we specified in our dtype variable\"\"\"\n",
        "print(fdf.columns) \n",
        "#This will show us what columns we have in our table, this should be the same as the ones we defined in our dtype variable\"\"\""
      ],
      "execution_count": 0,
      "outputs": [
        {
          "output_type": "stream",
          "text": [
            "(7009728, 19)\n",
            "Index(['Year', 'Month', 'DayofMonth', 'DayOfWeek', 'DepTime', 'UniqueCarrier',\n",
            "       'FlightNum', 'ArrDelay', 'DepDelay', 'Origin', 'Dest', 'Distance',\n",
            "       'Cancelled', 'CancellationCode', 'CarrierDelay', 'WeatherDelay',\n",
            "       'NASDelay', 'SecurityDelay', 'LateAircraftDelay'],\n",
            "      dtype='object')\n"
          ],
          "name": "stdout"
        }
      ]
    },
    {
      "metadata": {
        "id": "euR6CQfur2Pv",
        "colab_type": "text"
      },
      "cell_type": "markdown",
      "source": [
        "Next we can print out the first 5 values of our table to see what our table actually looks like"
      ]
    },
    {
      "metadata": {
        "id": "1dpY0SrjdOfm",
        "colab_type": "code",
        "outputId": "67fe2895-6168-42f6-e7dc-608cfda26496",
        "colab": {
          "base_uri": "https://localhost:8080/",
          "height": 215
        }
      },
      "cell_type": "code",
      "source": [
        "fdf.head(5)"
      ],
      "execution_count": 0,
      "outputs": [
        {
          "output_type": "execute_result",
          "data": {
            "text/html": [
              "<div>\n",
              "<style scoped>\n",
              "    .dataframe tbody tr th:only-of-type {\n",
              "        vertical-align: middle;\n",
              "    }\n",
              "\n",
              "    .dataframe tbody tr th {\n",
              "        vertical-align: top;\n",
              "    }\n",
              "\n",
              "    .dataframe thead th {\n",
              "        text-align: right;\n",
              "    }\n",
              "</style>\n",
              "<table border=\"1\" class=\"dataframe\">\n",
              "  <thead>\n",
              "    <tr style=\"text-align: right;\">\n",
              "      <th></th>\n",
              "      <th>Year</th>\n",
              "      <th>Month</th>\n",
              "      <th>DayofMonth</th>\n",
              "      <th>DayOfWeek</th>\n",
              "      <th>DepTime</th>\n",
              "      <th>UniqueCarrier</th>\n",
              "      <th>FlightNum</th>\n",
              "      <th>ArrDelay</th>\n",
              "      <th>DepDelay</th>\n",
              "      <th>Origin</th>\n",
              "      <th>Dest</th>\n",
              "      <th>Distance</th>\n",
              "      <th>Cancelled</th>\n",
              "      <th>CancellationCode</th>\n",
              "      <th>CarrierDelay</th>\n",
              "      <th>WeatherDelay</th>\n",
              "      <th>NASDelay</th>\n",
              "      <th>SecurityDelay</th>\n",
              "      <th>LateAircraftDelay</th>\n",
              "    </tr>\n",
              "  </thead>\n",
              "  <tbody>\n",
              "    <tr>\n",
              "      <th>0</th>\n",
              "      <td>2008</td>\n",
              "      <td>1</td>\n",
              "      <td>3</td>\n",
              "      <td>4</td>\n",
              "      <td>2003.0</td>\n",
              "      <td>WN</td>\n",
              "      <td>335</td>\n",
              "      <td>-14.0</td>\n",
              "      <td>8.0</td>\n",
              "      <td>IAD</td>\n",
              "      <td>TPA</td>\n",
              "      <td>810</td>\n",
              "      <td>0</td>\n",
              "      <td>NaN</td>\n",
              "      <td>NaN</td>\n",
              "      <td>NaN</td>\n",
              "      <td>NaN</td>\n",
              "      <td>NaN</td>\n",
              "      <td>NaN</td>\n",
              "    </tr>\n",
              "    <tr>\n",
              "      <th>1</th>\n",
              "      <td>2008</td>\n",
              "      <td>1</td>\n",
              "      <td>3</td>\n",
              "      <td>4</td>\n",
              "      <td>754.0</td>\n",
              "      <td>WN</td>\n",
              "      <td>3231</td>\n",
              "      <td>2.0</td>\n",
              "      <td>19.0</td>\n",
              "      <td>IAD</td>\n",
              "      <td>TPA</td>\n",
              "      <td>810</td>\n",
              "      <td>0</td>\n",
              "      <td>NaN</td>\n",
              "      <td>NaN</td>\n",
              "      <td>NaN</td>\n",
              "      <td>NaN</td>\n",
              "      <td>NaN</td>\n",
              "      <td>NaN</td>\n",
              "    </tr>\n",
              "    <tr>\n",
              "      <th>2</th>\n",
              "      <td>2008</td>\n",
              "      <td>1</td>\n",
              "      <td>3</td>\n",
              "      <td>4</td>\n",
              "      <td>628.0</td>\n",
              "      <td>WN</td>\n",
              "      <td>448</td>\n",
              "      <td>14.0</td>\n",
              "      <td>8.0</td>\n",
              "      <td>IND</td>\n",
              "      <td>BWI</td>\n",
              "      <td>515</td>\n",
              "      <td>0</td>\n",
              "      <td>NaN</td>\n",
              "      <td>NaN</td>\n",
              "      <td>NaN</td>\n",
              "      <td>NaN</td>\n",
              "      <td>NaN</td>\n",
              "      <td>NaN</td>\n",
              "    </tr>\n",
              "    <tr>\n",
              "      <th>3</th>\n",
              "      <td>2008</td>\n",
              "      <td>1</td>\n",
              "      <td>3</td>\n",
              "      <td>4</td>\n",
              "      <td>926.0</td>\n",
              "      <td>WN</td>\n",
              "      <td>1746</td>\n",
              "      <td>-6.0</td>\n",
              "      <td>-4.0</td>\n",
              "      <td>IND</td>\n",
              "      <td>BWI</td>\n",
              "      <td>515</td>\n",
              "      <td>0</td>\n",
              "      <td>NaN</td>\n",
              "      <td>NaN</td>\n",
              "      <td>NaN</td>\n",
              "      <td>NaN</td>\n",
              "      <td>NaN</td>\n",
              "      <td>NaN</td>\n",
              "    </tr>\n",
              "    <tr>\n",
              "      <th>4</th>\n",
              "      <td>2008</td>\n",
              "      <td>1</td>\n",
              "      <td>3</td>\n",
              "      <td>4</td>\n",
              "      <td>1829.0</td>\n",
              "      <td>WN</td>\n",
              "      <td>3920</td>\n",
              "      <td>34.0</td>\n",
              "      <td>34.0</td>\n",
              "      <td>IND</td>\n",
              "      <td>BWI</td>\n",
              "      <td>515</td>\n",
              "      <td>0</td>\n",
              "      <td>NaN</td>\n",
              "      <td>2.0</td>\n",
              "      <td>0.0</td>\n",
              "      <td>0.0</td>\n",
              "      <td>0.0</td>\n",
              "      <td>32.0</td>\n",
              "    </tr>\n",
              "  </tbody>\n",
              "</table>\n",
              "</div>"
            ],
            "text/plain": [
              "   Year  Month  DayofMonth  DayOfWeek  DepTime UniqueCarrier  FlightNum  \\\n",
              "0  2008      1           3          4   2003.0            WN        335   \n",
              "1  2008      1           3          4    754.0            WN       3231   \n",
              "2  2008      1           3          4    628.0            WN        448   \n",
              "3  2008      1           3          4    926.0            WN       1746   \n",
              "4  2008      1           3          4   1829.0            WN       3920   \n",
              "\n",
              "   ArrDelay  DepDelay Origin Dest  Distance  Cancelled CancellationCode  \\\n",
              "0     -14.0       8.0    IAD  TPA       810          0              NaN   \n",
              "1       2.0      19.0    IAD  TPA       810          0              NaN   \n",
              "2      14.0       8.0    IND  BWI       515          0              NaN   \n",
              "3      -6.0      -4.0    IND  BWI       515          0              NaN   \n",
              "4      34.0      34.0    IND  BWI       515          0              NaN   \n",
              "\n",
              "   CarrierDelay  WeatherDelay  NASDelay  SecurityDelay  LateAircraftDelay  \n",
              "0           NaN           NaN       NaN            NaN                NaN  \n",
              "1           NaN           NaN       NaN            NaN                NaN  \n",
              "2           NaN           NaN       NaN            NaN                NaN  \n",
              "3           NaN           NaN       NaN            NaN                NaN  \n",
              "4           2.0           0.0       0.0            0.0               32.0  "
            ]
          },
          "metadata": {
            "tags": []
          },
          "execution_count": 8
        }
      ]
    },
    {
      "metadata": {
        "id": "lau3VwdnsIq4",
        "colab_type": "text"
      },
      "cell_type": "markdown",
      "source": [
        "It's hard to see all the data in one window withouth scrolling, to make it easier to see we will transpose this table. What this means is that we will switch the place of the columsn and rows"
      ]
    },
    {
      "metadata": {
        "id": "WsVUcZeYsHt_",
        "colab_type": "code",
        "outputId": "1488d6b9-fe1c-4051-dd0a-b70fd58a8929",
        "colab": {
          "base_uri": "https://localhost:8080/",
          "height": 610
        }
      },
      "cell_type": "code",
      "source": [
        "fdf.head(5).T"
      ],
      "execution_count": 0,
      "outputs": [
        {
          "output_type": "execute_result",
          "data": {
            "text/html": [
              "<div>\n",
              "<style scoped>\n",
              "    .dataframe tbody tr th:only-of-type {\n",
              "        vertical-align: middle;\n",
              "    }\n",
              "\n",
              "    .dataframe tbody tr th {\n",
              "        vertical-align: top;\n",
              "    }\n",
              "\n",
              "    .dataframe thead th {\n",
              "        text-align: right;\n",
              "    }\n",
              "</style>\n",
              "<table border=\"1\" class=\"dataframe\">\n",
              "  <thead>\n",
              "    <tr style=\"text-align: right;\">\n",
              "      <th></th>\n",
              "      <th>0</th>\n",
              "      <th>1</th>\n",
              "      <th>2</th>\n",
              "      <th>3</th>\n",
              "      <th>4</th>\n",
              "    </tr>\n",
              "  </thead>\n",
              "  <tbody>\n",
              "    <tr>\n",
              "      <th>Year</th>\n",
              "      <td>2008</td>\n",
              "      <td>2008</td>\n",
              "      <td>2008</td>\n",
              "      <td>2008</td>\n",
              "      <td>2008</td>\n",
              "    </tr>\n",
              "    <tr>\n",
              "      <th>Month</th>\n",
              "      <td>1</td>\n",
              "      <td>1</td>\n",
              "      <td>1</td>\n",
              "      <td>1</td>\n",
              "      <td>1</td>\n",
              "    </tr>\n",
              "    <tr>\n",
              "      <th>DayofMonth</th>\n",
              "      <td>3</td>\n",
              "      <td>3</td>\n",
              "      <td>3</td>\n",
              "      <td>3</td>\n",
              "      <td>3</td>\n",
              "    </tr>\n",
              "    <tr>\n",
              "      <th>DayOfWeek</th>\n",
              "      <td>4</td>\n",
              "      <td>4</td>\n",
              "      <td>4</td>\n",
              "      <td>4</td>\n",
              "      <td>4</td>\n",
              "    </tr>\n",
              "    <tr>\n",
              "      <th>DepTime</th>\n",
              "      <td>2003</td>\n",
              "      <td>754</td>\n",
              "      <td>628</td>\n",
              "      <td>926</td>\n",
              "      <td>1829</td>\n",
              "    </tr>\n",
              "    <tr>\n",
              "      <th>UniqueCarrier</th>\n",
              "      <td>WN</td>\n",
              "      <td>WN</td>\n",
              "      <td>WN</td>\n",
              "      <td>WN</td>\n",
              "      <td>WN</td>\n",
              "    </tr>\n",
              "    <tr>\n",
              "      <th>FlightNum</th>\n",
              "      <td>335</td>\n",
              "      <td>3231</td>\n",
              "      <td>448</td>\n",
              "      <td>1746</td>\n",
              "      <td>3920</td>\n",
              "    </tr>\n",
              "    <tr>\n",
              "      <th>ArrDelay</th>\n",
              "      <td>-14</td>\n",
              "      <td>2</td>\n",
              "      <td>14</td>\n",
              "      <td>-6</td>\n",
              "      <td>34</td>\n",
              "    </tr>\n",
              "    <tr>\n",
              "      <th>DepDelay</th>\n",
              "      <td>8</td>\n",
              "      <td>19</td>\n",
              "      <td>8</td>\n",
              "      <td>-4</td>\n",
              "      <td>34</td>\n",
              "    </tr>\n",
              "    <tr>\n",
              "      <th>Origin</th>\n",
              "      <td>IAD</td>\n",
              "      <td>IAD</td>\n",
              "      <td>IND</td>\n",
              "      <td>IND</td>\n",
              "      <td>IND</td>\n",
              "    </tr>\n",
              "    <tr>\n",
              "      <th>Dest</th>\n",
              "      <td>TPA</td>\n",
              "      <td>TPA</td>\n",
              "      <td>BWI</td>\n",
              "      <td>BWI</td>\n",
              "      <td>BWI</td>\n",
              "    </tr>\n",
              "    <tr>\n",
              "      <th>Distance</th>\n",
              "      <td>810</td>\n",
              "      <td>810</td>\n",
              "      <td>515</td>\n",
              "      <td>515</td>\n",
              "      <td>515</td>\n",
              "    </tr>\n",
              "    <tr>\n",
              "      <th>Cancelled</th>\n",
              "      <td>0</td>\n",
              "      <td>0</td>\n",
              "      <td>0</td>\n",
              "      <td>0</td>\n",
              "      <td>0</td>\n",
              "    </tr>\n",
              "    <tr>\n",
              "      <th>CancellationCode</th>\n",
              "      <td>NaN</td>\n",
              "      <td>NaN</td>\n",
              "      <td>NaN</td>\n",
              "      <td>NaN</td>\n",
              "      <td>NaN</td>\n",
              "    </tr>\n",
              "    <tr>\n",
              "      <th>CarrierDelay</th>\n",
              "      <td>NaN</td>\n",
              "      <td>NaN</td>\n",
              "      <td>NaN</td>\n",
              "      <td>NaN</td>\n",
              "      <td>2</td>\n",
              "    </tr>\n",
              "    <tr>\n",
              "      <th>WeatherDelay</th>\n",
              "      <td>NaN</td>\n",
              "      <td>NaN</td>\n",
              "      <td>NaN</td>\n",
              "      <td>NaN</td>\n",
              "      <td>0</td>\n",
              "    </tr>\n",
              "    <tr>\n",
              "      <th>NASDelay</th>\n",
              "      <td>NaN</td>\n",
              "      <td>NaN</td>\n",
              "      <td>NaN</td>\n",
              "      <td>NaN</td>\n",
              "      <td>0</td>\n",
              "    </tr>\n",
              "    <tr>\n",
              "      <th>SecurityDelay</th>\n",
              "      <td>NaN</td>\n",
              "      <td>NaN</td>\n",
              "      <td>NaN</td>\n",
              "      <td>NaN</td>\n",
              "      <td>0</td>\n",
              "    </tr>\n",
              "    <tr>\n",
              "      <th>LateAircraftDelay</th>\n",
              "      <td>NaN</td>\n",
              "      <td>NaN</td>\n",
              "      <td>NaN</td>\n",
              "      <td>NaN</td>\n",
              "      <td>32</td>\n",
              "    </tr>\n",
              "  </tbody>\n",
              "</table>\n",
              "</div>"
            ],
            "text/plain": [
              "                      0     1     2     3     4\n",
              "Year               2008  2008  2008  2008  2008\n",
              "Month                 1     1     1     1     1\n",
              "DayofMonth            3     3     3     3     3\n",
              "DayOfWeek             4     4     4     4     4\n",
              "DepTime            2003   754   628   926  1829\n",
              "UniqueCarrier        WN    WN    WN    WN    WN\n",
              "FlightNum           335  3231   448  1746  3920\n",
              "ArrDelay            -14     2    14    -6    34\n",
              "DepDelay              8    19     8    -4    34\n",
              "Origin              IAD   IAD   IND   IND   IND\n",
              "Dest                TPA   TPA   BWI   BWI   BWI\n",
              "Distance            810   810   515   515   515\n",
              "Cancelled             0     0     0     0     0\n",
              "CancellationCode    NaN   NaN   NaN   NaN   NaN\n",
              "CarrierDelay        NaN   NaN   NaN   NaN     2\n",
              "WeatherDelay        NaN   NaN   NaN   NaN     0\n",
              "NASDelay            NaN   NaN   NaN   NaN     0\n",
              "SecurityDelay       NaN   NaN   NaN   NaN     0\n",
              "LateAircraftDelay   NaN   NaN   NaN   NaN    32"
            ]
          },
          "metadata": {
            "tags": []
          },
          "execution_count": 9
        }
      ]
    },
    {
      "metadata": {
        "id": "4WSaB7xUsb5H",
        "colab_type": "text"
      },
      "cell_type": "markdown",
      "source": [
        "A Quick Note: NaN means that the data for the entry in that table is not available, or that it simple does not exist. It is not the same as 0. 0 is a value that relays some data. NaN means that there is no value and that entry contains no data."
      ]
    },
    {
      "metadata": {
        "id": "HNqcKDsytGYI",
        "colab_type": "text"
      },
      "cell_type": "markdown",
      "source": [
        "#Q 1"
      ]
    },
    {
      "metadata": {
        "id": "eMt1Ln3DtI06",
        "colab_type": "text"
      },
      "cell_type": "markdown",
      "source": [
        "1. How many unique carriers are there in our dataset?\n",
        "\n",
        "We need to find how many carriers (Airline carriers) are present in our dataset"
      ]
    },
    {
      "metadata": {
        "id": "hUeBoJibsbWJ",
        "colab_type": "code",
        "outputId": "607564fa-48a0-40fa-e2bd-c9d952f77456",
        "colab": {
          "base_uri": "https://localhost:8080/",
          "height": 34
        }
      },
      "cell_type": "code",
      "source": [
        "fdf['UniqueCarrier'].nunique()\n",
        "#We specify which attribute (column) we are looking at, and the nunique function returns the number of unique entries in the table in that specific table"
      ],
      "execution_count": 0,
      "outputs": [
        {
          "output_type": "execute_result",
          "data": {
            "text/plain": [
              "20"
            ]
          },
          "metadata": {
            "tags": []
          },
          "execution_count": 10
        }
      ]
    },
    {
      "metadata": {
        "id": "RPUeTxPTwWKx",
        "colab_type": "text"
      },
      "cell_type": "markdown",
      "source": [
        "#Q 2"
      ]
    },
    {
      "metadata": {
        "id": "EpO1C2QsuJ21",
        "colab_type": "text"
      },
      "cell_type": "markdown",
      "source": [
        "2. We have both cancelled and completed flights in the dataset. Check if there are more completed or cancelled flights. What is the difference? \n",
        "\n",
        "We need to count the total number of cancalled flights and not cancelled flights. If the cancelled value in an entry is 0 that means it wasnt cancelled, if it was 1 that means it was cancelled"
      ]
    },
    {
      "metadata": {
        "id": "iU0zHqLquJac",
        "colab_type": "code",
        "outputId": "a9d36c82-9be8-474d-b3a1-c39bd9bf6250",
        "colab": {
          "base_uri": "https://localhost:8080/",
          "height": 34
        }
      },
      "cell_type": "code",
      "source": [
        "cancelled = fdf.loc[fdf['Cancelled'] == 1]\n",
        "# First we filted in all the cancelled flighs into a new dataframe, the loc function locates the rows which matches the criterea in the bracket\n",
        "notCancelled = fdf.loc[fdf['Cancelled'] == 0]\n",
        "#We do the same for flights that arent cancelled\n",
        "\n",
        "print ('Number of cancelled flights: {}, Number of not cancelled flights: {}, Difference between not cancelled and cancelled: {}'.format(\n",
        "    len(cancelled), len(notCancelled), len(notCancelled) - len(cancelled)))\n",
        "#the len() function tells us the number of rows in each dataframe, as each row corrosoponds to 1 flight, number of rows is the number of flights\n"
      ],
      "execution_count": 0,
      "outputs": [
        {
          "output_type": "stream",
          "text": [
            "Number of cancelled flights: 137434, Number of not cancelled flights: 6872294, Difference between not cancelled and cancelled: 6734860\n"
          ],
          "name": "stdout"
        }
      ]
    },
    {
      "metadata": {
        "id": "Ef14UcaJwZdA",
        "colab_type": "text"
      },
      "cell_type": "markdown",
      "source": [
        "#Q 3"
      ]
    },
    {
      "metadata": {
        "id": "0tyN68cHwLnA",
        "colab_type": "text"
      },
      "cell_type": "markdown",
      "source": [
        "3. Find a flight with the longest departure delays and a flight with the longest arrival delay. Do they have the same destination airport, and if yes, what is its code?\n",
        "\n",
        " find the 2 flights with longest departure and arrival delays, and for each of thos flights we need to check what their destination airport is"
      ]
    },
    {
      "metadata": {
        "id": "2SX1rDsMsXjr",
        "colab_type": "code",
        "outputId": "aac3918b-e773-40e8-ed9e-3f647df48b2b",
        "colab": {
          "base_uri": "https://localhost:8080/",
          "height": 50
        }
      },
      "cell_type": "code",
      "source": [
        "mDepDelay = fdf.loc[fdf['DepDelay'].idxmax()]['Dest']\n",
        "#We first find the row which contains the max value in the column DepDelay, the idxmax function does this for us, then we specify which column from that row we want\n",
        "#If we dont specify this column then the function will return the whole row\n",
        "\n",
        "mArrDelay = fdf.loc[fdf['ArrDelay'].idxmax()]['Dest']\n",
        "#Do the same for ArrDelay\n",
        "\n",
        "print('Destination airport for flight with longest departure delay: {} \\nDestination airport for flight with longest arrivale delay: {} '.format(mDepDelay, mArrDelay))"
      ],
      "execution_count": 0,
      "outputs": [
        {
          "output_type": "stream",
          "text": [
            "Destination airport for flight with longest departure delay: MSP \n",
            "Destination airport for flight with longest arrivale delay: MSP \n"
          ],
          "name": "stdout"
        }
      ]
    },
    {
      "metadata": {
        "id": "jkRQ6iWuyf-o",
        "colab_type": "text"
      },
      "cell_type": "markdown",
      "source": [
        "#Q 4"
      ]
    },
    {
      "metadata": {
        "id": "EVf1VeblyhwR",
        "colab_type": "text"
      },
      "cell_type": "markdown",
      "source": [
        "4. Find the carrier that has the greatest number of cancelled flights.\n",
        "\n",
        "Filter in all the flights that are cancelled and find the carrier with the max amount of flights. "
      ]
    },
    {
      "metadata": {
        "id": "LHkTeerXx7NO",
        "colab_type": "code",
        "outputId": "d95f0f6c-93ba-4edc-e1bc-83f086f39885",
        "colab": {
          "base_uri": "https://localhost:8080/",
          "height": 67
        }
      },
      "cell_type": "code",
      "source": [
        "fdf.groupby(['UniqueCarrier'])['Cancelled'].sum().sort_values(\n",
        "    ascending=False).iloc[0:1]\n",
        "#the groupby function groups all the rows by the specified attribute (UniqueCarriers), then we specify which other attribute we want to analyse (Cancelled)\n",
        "#then we specify what we want from that attribute, we want to count the total number of occurances of cancelled, and as cancelled is always 1 when a flight is cancelled\n",
        "#summing the cancelled attribute for each carrier should tell us the total number of cancelled flights for each carrier\n",
        "#then we sort the values in descending order (biggest to smallest), and then we specify which of the values we want to output using the iloc function\n",
        "#for this case we only want the 1st value\n",
        "#The output will be the carrier and the number of cancelled flights"
      ],
      "execution_count": 0,
      "outputs": [
        {
          "output_type": "execute_result",
          "data": {
            "text/plain": [
              "UniqueCarrier\n",
              "MQ    18331.0\n",
              "Name: Cancelled, dtype: float64"
            ]
          },
          "metadata": {
            "tags": []
          },
          "execution_count": 13
        }
      ]
    },
    {
      "metadata": {
        "id": "IYn8lRr52YEh",
        "colab_type": "text"
      },
      "cell_type": "markdown",
      "source": [
        "#Q 5"
      ]
    },
    {
      "metadata": {
        "id": "MyazjeuZ0T4y",
        "colab_type": "text"
      },
      "cell_type": "markdown",
      "source": [
        "5. Let's examine departure time and consider distribution by hour (column DepHour that we've created earlier). Which hour has the highest percentage of flights?\n",
        "\n",
        "For this we need to first create a new column which contains the departure hour of each flight, and then we need to find out the hour that has the most number of flights"
      ]
    },
    {
      "metadata": {
        "id": "Se50DvLU0Tso",
        "colab_type": "code",
        "colab": {}
      },
      "cell_type": "code",
      "source": [
        "fdf['DepHour'] = fdf['DepTime'] // 100\n",
        "#First we create a new column called dephour and convert the deptime value from the deptime column to the hour of day\n",
        "#to do this we simple divide the deptime value by hour and apply the floor function, thiw will round up and fraction values\n",
        "fdf['DepHour'].replace(to_replace=24, value=0, inplace=True)\n",
        "#our dephour will contain values from 1 to 24, however, the hour 24 does not exist, after 23 00, the clock rolls over to 00 00. hence we rplace all the 24 values with 0\n",
        "#you can check the table again by running fdf.head(5).T function to see the new column"
      ],
      "execution_count": 0,
      "outputs": []
    },
    {
      "metadata": {
        "id": "lcmdYXQS0Ie6",
        "colab_type": "code",
        "outputId": "f5ccafaf-4219-450a-e659-f9bcc6a812fc",
        "colab": {
          "base_uri": "https://localhost:8080/",
          "height": 405
        }
      },
      "cell_type": "code",
      "source": [
        "print('hour with the highest percentage of flights',fdf.groupby('DepHour').size().idxmax())\n",
        "#we group all the flights by dep hour and simply count the number of flights in each hour, and find the hour with the most flights\n",
        "fdf.groupby('DepHour').size().plot(kind='bar')\n",
        "#We can also plot this data in a bar graph to see a visual representation of the data"
      ],
      "execution_count": 0,
      "outputs": [
        {
          "output_type": "stream",
          "text": [
            "hour with the highest percentage of flights 8.0\n"
          ],
          "name": "stdout"
        },
        {
          "output_type": "execute_result",
          "data": {
            "text/plain": [
              "<matplotlib.axes._subplots.AxesSubplot at 0x7f22fbed4278>"
            ]
          },
          "metadata": {
            "tags": []
          },
          "execution_count": 15
        },
        {
          "output_type": "display_data",
          "data": {
            "image/png": "[encoded data removed]",
            "text/plain": [
              "<Figure size 576x396 with 1 Axes>"
            ]
          },
          "metadata": {
            "tags": []
          }
        }
      ]
    },
    {
      "metadata": {
        "id": "qTtB0VFE2cci",
        "colab_type": "text"
      },
      "cell_type": "markdown",
      "source": [
        "#Q 6"
      ]
    },
    {
      "metadata": {
        "id": "a_Jb46Od2kVi",
        "colab_type": "text"
      },
      "cell_type": "markdown",
      "source": [
        "6. OK, now let's examine cancelled flight distribution by time. Which hour has the least percentage of cancelled flights?\n",
        "\n",
        "We do the same thing as we did above, but we need to filter out the cancelled flights and find the ratio of cancelled flight to total flights for each hour"
      ]
    },
    {
      "metadata": {
        "id": "BQzVH-Pa2JyK",
        "colab_type": "code",
        "outputId": "942c4214-c180-48c8-abd2-6ab019fb4e58",
        "colab": {
          "base_uri": "https://localhost:8080/",
          "height": 405
        }
      },
      "cell_type": "code",
      "source": [
        "totalFlights = fdf.groupby('DepHour').size()\n",
        "#returns a series of the values of the total number of flights for each hour\n",
        "cancelledFlights = fdf.groupby(['DepHour'])['Cancelled'].sum()\n",
        "#returns a series of the values of the total number of cancalled flights for each hour\n",
        "percentages = (cancelledFlights)/totalFlights\n",
        "print('hour with the lowest percentage of cancelled flights', percentages.idxmin())\n",
        "#prints out the hour with the lowest percentage of cancelled flights\n",
        "percentages.plot(kind='bar')\n",
        "#lets plot the data as well"
      ],
      "execution_count": 0,
      "outputs": [
        {
          "output_type": "stream",
          "text": [
            "hour with the lowest percentage of cancelled flights 3.0\n"
          ],
          "name": "stdout"
        },
        {
          "output_type": "execute_result",
          "data": {
            "text/plain": [
              "<matplotlib.axes._subplots.AxesSubplot at 0x7f22f89081d0>"
            ]
          },
          "metadata": {
            "tags": []
          },
          "execution_count": 16
        },
        {
          "output_type": "display_data",
          "data": {
            "image/png": "[encoded data removed]",
            "text/plain": [
              "<Figure size 576x396 with 1 Axes>"
            ]
          },
          "metadata": {
            "tags": []
          }
        }
      ]
    },
    {
      "metadata": {
        "id": "ZbMrhDbi4tt9",
        "colab_type": "text"
      },
      "cell_type": "markdown",
      "source": [
        "#Q 7"
      ]
    },
    {
      "metadata": {
        "id": "3KPS46j_4yiS",
        "colab_type": "text"
      },
      "cell_type": "markdown",
      "source": [
        "7. Is there any hour that didn't have any cancelled flights at all?\n",
        "\n",
        "Look for hour where the number of cancelled flights  = 0"
      ]
    },
    {
      "metadata": {
        "id": "3Wo3_xIF4WnQ",
        "colab_type": "code",
        "outputId": "e070902f-b0d4-437f-f896-92f61dfe9438",
        "colab": {
          "base_uri": "https://localhost:8080/",
          "height": 825
        }
      },
      "cell_type": "code",
      "source": [
        "print(fdf.groupby(['DepHour'])['Cancelled'].sum())\n",
        "#this will print out the number of cancelled flights for each hour, and then we can see which hours have no cancelled flight\n",
        "fdf.groupby(['DepHour'])['Cancelled'].sum().plot(kind='bar')\n",
        "#plot the data as well"
      ],
      "execution_count": 0,
      "outputs": [
        {
          "output_type": "stream",
          "text": [
            "DepHour\n",
            "0.0      7\n",
            "1.0      4\n",
            "2.0      1\n",
            "3.0      0\n",
            "4.0      1\n",
            "5.0     24\n",
            "6.0     80\n",
            "7.0     83\n",
            "8.0     79\n",
            "9.0     56\n",
            "10.0    57\n",
            "11.0    59\n",
            "12.0    53\n",
            "13.0    47\n",
            "14.0    57\n",
            "15.0    73\n",
            "16.0    73\n",
            "17.0    73\n",
            "18.0    66\n",
            "19.0    81\n",
            "20.0    51\n",
            "21.0    82\n",
            "22.0    57\n",
            "23.0    24\n",
            "Name: Cancelled, dtype: uint8\n"
          ],
          "name": "stdout"
        },
        {
          "output_type": "execute_result",
          "data": {
            "text/plain": [
              "<matplotlib.axes._subplots.AxesSubplot at 0x7f22f88a8400>"
            ]
          },
          "metadata": {
            "tags": []
          },
          "execution_count": 17
        },
        {
          "output_type": "display_data",
          "data": {
            "image/png": "[encoded data removed]",
            "text/plain": [
              "<Figure size 576x396 with 1 Axes>"
            ]
          },
          "metadata": {
            "tags": []
          }
        }
      ]
    },
    {
      "metadata": {
        "id": "WZTbWuXt5jul",
        "colab_type": "text"
      },
      "cell_type": "markdown",
      "source": [
        "#Q 8"
      ]
    },
    {
      "metadata": {
        "id": "rwykvexUHjnO",
        "colab_type": "text"
      },
      "cell_type": "markdown",
      "source": [
        "8. Find the busiest hour, or in other words, the hour when the number of departed flights reaches its maximum.\n",
        "\n",
        "For this we need to find out the hour with the max amount of departed flights, which means that we only need to consider not cancelled, or completed flights"
      ]
    },
    {
      "metadata": {
        "id": "QtXGMI6C5TMS",
        "colab_type": "code",
        "outputId": "9d9916dd-6765-4cdb-d52a-22ca78bff20f",
        "colab": {
          "base_uri": "https://localhost:8080/",
          "height": 405
        }
      },
      "cell_type": "code",
      "source": [
        "notCancelled = fdf.loc[fdf['Cancelled'] == 0]\n",
        "#first we filiter in all the flights that werent cancelled\n",
        "print('The hour with the most completed (not cancelled) flights: ', notCancelled.groupby(['DepHour']).size().idxmax())\n",
        "#group flights by hour and select the hour with the max amount of flights\n",
        "notCancelled.groupby(['DepHour']).size().plot(kind='bar')\n",
        "#display data in graph"
      ],
      "execution_count": 0,
      "outputs": [
        {
          "output_type": "stream",
          "text": [
            "The hour with the most completed (not cancelled) flights:  8.0\n"
          ],
          "name": "stdout"
        },
        {
          "output_type": "execute_result",
          "data": {
            "text/plain": [
              "<matplotlib.axes._subplots.AxesSubplot at 0x7f22f883c780>"
            ]
          },
          "metadata": {
            "tags": []
          },
          "execution_count": 18
        },
        {
          "output_type": "display_data",
          "data": {
            "image/png": "[encoded data removed]",
            "text/plain": [
              "<Figure size 576x396 with 1 Axes>"
            ]
          },
          "metadata": {
            "tags": []
          }
        }
      ]
    },
    {
      "metadata": {
        "id": "PcqgUQluIzsd",
        "colab_type": "text"
      },
      "cell_type": "markdown",
      "source": [
        "#Q 9"
      ]
    },
    {
      "metadata": {
        "id": "iybn3_Z7I1VV",
        "colab_type": "text"
      },
      "cell_type": "markdown",
      "source": [
        "9. Since we know the departure hour, it might be interesting to examine the average delay for corresponding hour. Are there any cases, when the planes on average departed earlier than they should have done? And if yes, at what departure hours did it happen?\n",
        "\n",
        "We need to filter in all the completed flights and then avg out the the departure delay for each hour, and then find the hour which has the lowest avergae value. If the value is negative, it means the flight arrived earlier than expected"
      ]
    },
    {
      "metadata": {
        "id": "8HIyMNqUJPPj",
        "colab_type": "code",
        "outputId": "a93489d3-3949-46f9-ee04-d1580418c493",
        "colab": {
          "base_uri": "https://localhost:8080/",
          "height": 84
        }
      },
      "cell_type": "code",
      "source": [
        "notCancelled = fdf.loc[fdf['Cancelled'] == 0]\n",
        "#first we filiter in all the flights that werent cancelled\n",
        "avg = notCancelled.groupby(['DepHour'])['DepDelay'].mean()\n",
        "#calculate the averages of the departure delay for each hour\n",
        "avg[avg<0]\n",
        "#output the hours and values with averages less than 0"
      ],
      "execution_count": 0,
      "outputs": [
        {
          "output_type": "execute_result",
          "data": {
            "text/plain": [
              "DepHour\n",
              "5.0   -4.253906\n",
              "6.0   -1.629883\n",
              "Name: DepDelay, dtype: float16"
            ]
          },
          "metadata": {
            "tags": []
          },
          "execution_count": 19
        }
      ]
    },
    {
      "metadata": {
        "id": "eHbu8CexKAjQ",
        "colab_type": "text"
      },
      "cell_type": "markdown",
      "source": [
        "#Q 10"
      ]
    },
    {
      "metadata": {
        "id": "oRSppkzaKGtf",
        "colab_type": "text"
      },
      "cell_type": "markdown",
      "source": [
        "10. Considering only the completed flights by the carrier, that you have found in Question 4, find the distribution of these flights by hour. At what time does the greatest number of its planes depart?\n",
        "\n",
        "The carrier found in Q 4 was MQ. We need to filter in all flights by MQ, and then filter in all the completed flights. Then group the flights by departure hour and see which hour has greatest number of departures. "
      ]
    },
    {
      "metadata": {
        "id": "7Wy6MJvTKuHR",
        "colab_type": "code",
        "outputId": "c0c2b1ed-1afc-4da2-e8fb-40459210d29c",
        "colab": {
          "base_uri": "https://localhost:8080/",
          "height": 405
        }
      },
      "cell_type": "code",
      "source": [
        "MQ =  fdf.loc[fdf['UniqueCarrier'] == 'MQ']\n",
        "#Filter in all the flights by MQ\n",
        "notCancelled = MQ.loc[MQ['Cancelled'] == 0]\n",
        "#Filter in all the completed flights\n",
        "\n",
        "print('The hour witht the greatest number of departed fligths for MQ: ', notCancelled.groupby('DepHour').size().idxmax())\n",
        "\n",
        "notCancelled.groupby('DepHour').size().plot(kind='bar')\n",
        "\n",
        "#To visualize the distribution we can plot it\n",
        "\n",
        "\n"
      ],
      "execution_count": 0,
      "outputs": [
        {
          "output_type": "stream",
          "text": [
            "The hour witht the greatest number of departed fligths for MQ:  10.0\n"
          ],
          "name": "stdout"
        },
        {
          "output_type": "execute_result",
          "data": {
            "text/plain": [
              "<matplotlib.axes._subplots.AxesSubplot at 0x7f22f873a320>"
            ]
          },
          "metadata": {
            "tags": []
          },
          "execution_count": 20
        },
        {
          "output_type": "display_data",
          "data": {
            "image/png": "[encoded data removed]",
            "text/plain": [
              "<Figure size 576x396 with 1 Axes>"
            ]
          },
          "metadata": {
            "tags": []
          }
        }
      ]
    },
    {
      "metadata": {
        "id": "fWmEeg53NasY",
        "colab_type": "text"
      },
      "cell_type": "markdown",
      "source": [
        "#Q 11"
      ]
    },
    {
      "metadata": {
        "id": "g1QcR4CINhoX",
        "colab_type": "text"
      },
      "cell_type": "markdown",
      "source": [
        "11. Find top-10 carriers in terms of the number of completed flights (UniqueCarrier column)?\n",
        "\n",
        "Filter flights by Cancelled  = 0, then group by carriers and then sort in descending order and select the top 10"
      ]
    },
    {
      "metadata": {
        "id": "OLhwr996LuY5",
        "colab_type": "code",
        "outputId": "5bf2b237-493d-47b7-932d-3f7863d41935",
        "colab": {
          "base_uri": "https://localhost:8080/",
          "height": 218
        }
      },
      "cell_type": "code",
      "source": [
        "notCancelled = fdf.loc[fdf['Cancelled'] == 0]\n",
        "#filter in all completed flights\n",
        "\n",
        "notCancelled.groupby(['UniqueCarrier']).size().sort_values(ascending=False).iloc[0:10]\n",
        "#group by carreirs, sort by value, and display top 10"
      ],
      "execution_count": 0,
      "outputs": [
        {
          "output_type": "execute_result",
          "data": {
            "text/plain": [
              "UniqueCarrier\n",
              "WN    1189365\n",
              "AA     587445\n",
              "OO     554723\n",
              "MQ     472362\n",
              "US     447007\n",
              "DL     445118\n",
              "UA     438974\n",
              "XE     364518\n",
              "NW     344746\n",
              "CO     294753\n",
              "dtype: int64"
            ]
          },
          "metadata": {
            "tags": []
          },
          "execution_count": 21
        }
      ]
    },
    {
      "metadata": {
        "id": "lMBEpqaVOR8j",
        "colab_type": "text"
      },
      "cell_type": "markdown",
      "source": [
        "#Q 12"
      ]
    },
    {
      "metadata": {
        "id": "WNO7MWeYOsPB",
        "colab_type": "text"
      },
      "cell_type": "markdown",
      "source": [
        "12. Plot distributions of flight cancellation reasons (CancellationCode).What is the most frequent reason for flight cancellation? \n",
        "\n",
        "First we filter in all the cancelled flights and group by cancelleation code, then we can plot the distribution and find the max value of cancellation reaons"
      ]
    },
    {
      "metadata": {
        "id": "UcW1AStjONqN",
        "colab_type": "code",
        "outputId": "41e36f2b-8164-4fe9-f825-054f0e280c46",
        "colab": {
          "base_uri": "https://localhost:8080/",
          "height": 374
        }
      },
      "cell_type": "code",
      "source": [
        "cancelled = fdf.loc[fdf['Cancelled'] == 1]\n",
        "#filter in all cancelled flights\n",
        "\n",
        "cancelled.groupby('CancellationCode').size().plot(kind='bar')\n",
        "#display distribution in plot\n",
        "print('The most common cancellation reason is: ', cancelled.groupby('CancellationCode').size().idxmax())"
      ],
      "execution_count": 0,
      "outputs": [
        {
          "output_type": "stream",
          "text": [
            "The most common cancellation reason is:  B\n"
          ],
          "name": "stdout"
        },
        {
          "output_type": "display_data",
          "data": {
            "image/png": "[encoded data removed]",
            "text/plain": [
              "<Figure size 576x396 with 1 Axes>"
            ]
          },
          "metadata": {
            "tags": []
          }
        }
      ]
    },
    {
      "metadata": {
        "id": "fJ7c2KfqPfgc",
        "colab_type": "text"
      },
      "cell_type": "markdown",
      "source": [
        "#Q 13"
      ]
    },
    {
      "metadata": {
        "id": "nDXUEwtKPfW5",
        "colab_type": "text"
      },
      "cell_type": "markdown",
      "source": [
        "13. Which route is the most frequent, in terms of the number of flights?\n",
        "\n",
        "For this we will create a new entry called route. We will concatenate the values from the origin and dest. After that we will group the flights by route and find the route with max amount of flights"
      ]
    },
    {
      "metadata": {
        "id": "GiXEMecdXJO3",
        "colab_type": "code",
        "outputId": "1ecf64b1-b10b-4343-b6b8-b94f0cc6408d",
        "colab": {
          "base_uri": "https://localhost:8080/",
          "height": 34
        }
      },
      "cell_type": "code",
      "source": [
        "fdf['Route'] = fdf['Origin'] + fdf['Dest'] \n",
        "#create new column in dataframe\n",
        "\n",
        "print('The Route with the most amount of flights: {}, with {} flights'.format(fdf.groupby('Route').size().idxmax(), fdf.groupby('Route').size().max()))\n",
        "#print out results\n",
        "\n"
      ],
      "execution_count": 0,
      "outputs": [
        {
          "output_type": "stream",
          "text": [
            "The Route with the most amount of flights: SFOLAX, with 13788 flights\n"
          ],
          "name": "stdout"
        }
      ]
    },
    {
      "metadata": {
        "id": "JxAB8UgSYpMJ",
        "colab_type": "text"
      },
      "cell_type": "markdown",
      "source": [
        "#Q 14\n"
      ]
    },
    {
      "metadata": {
        "id": "3Erw9r3hZAKL",
        "colab_type": "text"
      },
      "cell_type": "markdown",
      "source": [
        "14. Find top-5 delayed routes (count how many times they were delayed on departure). From all flights on these 5 routes, count all flights with weather conditions contributing to a delay\n",
        "\n",
        "First we filter in alll the flights that were delayed, then we group by routes, sort and then select the flights that belong to the top 5 routes. Then we filter in all the flights that were affected due to weather conditions and count the number of flights"
      ]
    },
    {
      "metadata": {
        "id": "V8PDwB4agAOh",
        "colab_type": "code",
        "outputId": "99ae0e3a-7f65-4f36-e231-e248c2eb860a",
        "colab": {
          "base_uri": "https://localhost:8080/",
          "height": 34
        }
      },
      "cell_type": "code",
      "source": [
        "#you could manually see which routes were delayed the most and then select each route and just manully add all the flights that were delayed due to weather conditions for those routes\n",
        "#i wanted to answer it programatically\n",
        "#there might be other ways to do it, but this way popped into my head first\n",
        "\n",
        "n = 5 #select the top n delayed routes\n",
        "\n",
        "delayed = fdf.loc[fdf['DepDelay'] > 0]\n",
        "#filter in all flights that were delayed at departure\n",
        "\n",
        "topRoutes = delayed.groupby(['Route']).size().sort_values(ascending=False).iloc[0:n]\n",
        "#group flights by route then sort them in decreasing order and select the top 5\n",
        "#the values return is in the form of a panda series, which is like a python dictionay, we want the key values from this series\n",
        "df = pd.DataFrame()\n",
        "l = []\n",
        "\n",
        "for i in topRoutes.keys():\n",
        "  #we go through all the key values in series (routes with the most departure delayes), and only select the flights that were delayed and belong to these routes\n",
        "  #each time we filter the flights, a new dataframe is created, we add all the dataframes to a list\n",
        "  l.append(delayed.loc[delayed[\"Route\"] == i])\n",
        "\n",
        "df = pd.concat(l) #we concatonate all dataframes into 1 big dataframe\n",
        "\n",
        "\n",
        "wDelay = df.loc[df['WeatherDelay']> 0]\n",
        "#we filter in flights that were delayed due to weather conditions\n",
        "\n",
        "print(\"The number of flights that satisfies the criterea: \", len(wDelay))\n",
        "#finally we get the length of this newly filtered dataframe, the length is the number of rows, each row is a flight, number of rows = number of flights"
      ],
      "execution_count": 0,
      "outputs": [
        {
          "output_type": "stream",
          "text": [
            "The number of flights that satisfies the criterea:  668\n"
          ],
          "name": "stdout"
        }
      ]
    },
    {
      "metadata": {
        "id": "M6f3vgcxlbmN",
        "colab_type": "text"
      },
      "cell_type": "markdown",
      "source": [
        "#Q 15"
      ]
    },
    {
      "metadata": {
        "id": "JzjwV9NwleJ-",
        "colab_type": "text"
      },
      "cell_type": "markdown",
      "source": [
        "15. Examine the hourly distribution of departure times. Choose all correct statements:\n",
        "\n",
        "  - Flights are normally distributed within time interval [0-23] (Search for: Normal distribution, bell curve).\n",
        "  - Flights are uniformly distributed within time interval [0-23].\n",
        "  - In the period from 0 am to 4 am there are considerably less flights than from 7 pm to 8 pm.\n",
        "  \n",
        "For this question i will show how to find the distribution of departure times only. Selecting the correct statements should be done through intutiion and critical thinking"
      ]
    },
    {
      "metadata": {
        "id": "MbVCyxK_l1RQ",
        "colab_type": "code",
        "outputId": "5e65e6fd-2f97-4e41-8c2c-6ae4cfc73ca5",
        "colab": {
          "base_uri": "https://localhost:8080/",
          "height": 306
        }
      },
      "cell_type": "code",
      "source": [
        "fig, axes = plt.subplots(nrows=1, ncols=2, figsize = (18, 8))\n",
        "fdf.groupby(['DepHour']).size().plot(kind='bar', ax=axes[0], figsize = (18, 4))\n",
        "#first graph is bar chart of the number flights departing in each hour\n",
        "\n",
        "fdf.groupby(['DepHour']).size().plot.hist(bins = 50, ax=axes[1], figsize = (18, 4))\n",
        "#second graph is a histogram if the the number of departing flights"
      ],
      "execution_count": 0,
      "outputs": [
        {
          "output_type": "execute_result",
          "data": {
            "text/plain": [
              "<matplotlib.axes._subplots.AxesSubplot at 0x7f22de982160>"
            ]
          },
          "metadata": {
            "tags": []
          },
          "execution_count": 86
        },
        {
          "output_type": "display_data",
          "data": {
            "image/png": "[encoded data removed]",
            "text/plain": [
              "<Figure size 1296x288 with 2 Axes>"
            ]
          },
          "metadata": {
            "tags": []
          }
        }
      ]
    },
    {
      "metadata": {
        "id": "YMfMv5JgsYGN",
        "colab_type": "text"
      },
      "cell_type": "markdown",
      "source": [
        "#Q 16"
      ]
    },
    {
      "metadata": {
        "id": "FQx4rNY3sZxq",
        "colab_type": "text"
      },
      "cell_type": "markdown",
      "source": [
        "16. Show how the number of flights changes through time (on the daily/weekly/monthly basis) and interpret the findings. Choose all correct statements:\n",
        "\n",
        "  -The number of flights during weekends is less than during weekdays (working days)\n",
        "  \n",
        "  -The lowest number of flights is on Sunday.\n",
        "  \n",
        "  -There are less flights during winter than during summer.\n",
        "  \n",
        "  \n",
        "  For this question i will show how to plot number of flights vs days and months . Selecting the correct statements should be done through intutiion and critical thinking"
      ]
    },
    {
      "metadata": {
        "id": "0-EUspZBveVo",
        "colab_type": "code",
        "outputId": "3021649e-424b-4d8c-94dc-30d2b6027502",
        "colab": {
          "base_uri": "https://localhost:8080/",
          "height": 432
        }
      },
      "cell_type": "code",
      "source": [
        "flight = pd.crosstab(fdf.Month, fdf.DayOfWeek)\n",
        "#returns a new table that displayes how many flights for each month for each day of the week\n",
        "flight"
      ],
      "execution_count": 0,
      "outputs": [
        {
          "output_type": "execute_result",
          "data": {
            "text/html": [
              "<div>\n",
              "<style scoped>\n",
              "    .dataframe tbody tr th:only-of-type {\n",
              "        vertical-align: middle;\n",
              "    }\n",
              "\n",
              "    .dataframe tbody tr th {\n",
              "        vertical-align: top;\n",
              "    }\n",
              "\n",
              "    .dataframe thead th {\n",
              "        text-align: right;\n",
              "    }\n",
              "</style>\n",
              "<table border=\"1\" class=\"dataframe\">\n",
              "  <thead>\n",
              "    <tr style=\"text-align: right;\">\n",
              "      <th>DayOfWeek</th>\n",
              "      <th>1</th>\n",
              "      <th>2</th>\n",
              "      <th>3</th>\n",
              "      <th>4</th>\n",
              "      <th>5</th>\n",
              "      <th>6</th>\n",
              "      <th>7</th>\n",
              "    </tr>\n",
              "    <tr>\n",
              "      <th>Month</th>\n",
              "      <th></th>\n",
              "      <th></th>\n",
              "      <th></th>\n",
              "      <th></th>\n",
              "      <th></th>\n",
              "      <th></th>\n",
              "      <th></th>\n",
              "    </tr>\n",
              "  </thead>\n",
              "  <tbody>\n",
              "    <tr>\n",
              "      <th>1</th>\n",
              "      <td>80807</td>\n",
              "      <td>97298</td>\n",
              "      <td>100080</td>\n",
              "      <td>102043</td>\n",
              "      <td>81940</td>\n",
              "      <td>67178</td>\n",
              "      <td>76419</td>\n",
              "    </tr>\n",
              "    <tr>\n",
              "      <th>2</th>\n",
              "      <td>81504</td>\n",
              "      <td>79700</td>\n",
              "      <td>80587</td>\n",
              "      <td>82158</td>\n",
              "      <td>102726</td>\n",
              "      <td>66462</td>\n",
              "      <td>76099</td>\n",
              "    </tr>\n",
              "    <tr>\n",
              "      <th>3</th>\n",
              "      <td>103210</td>\n",
              "      <td>81159</td>\n",
              "      <td>82307</td>\n",
              "      <td>82831</td>\n",
              "      <td>82936</td>\n",
              "      <td>86153</td>\n",
              "      <td>97494</td>\n",
              "    </tr>\n",
              "    <tr>\n",
              "      <th>4</th>\n",
              "      <td>82463</td>\n",
              "      <td>100785</td>\n",
              "      <td>102586</td>\n",
              "      <td>82799</td>\n",
              "      <td>82964</td>\n",
              "      <td>68304</td>\n",
              "      <td>78225</td>\n",
              "    </tr>\n",
              "    <tr>\n",
              "      <th>5</th>\n",
              "      <td>80626</td>\n",
              "      <td>79884</td>\n",
              "      <td>81264</td>\n",
              "      <td>102572</td>\n",
              "      <td>102878</td>\n",
              "      <td>84493</td>\n",
              "      <td>74576</td>\n",
              "    </tr>\n",
              "    <tr>\n",
              "      <th>6</th>\n",
              "      <td>104168</td>\n",
              "      <td>82160</td>\n",
              "      <td>82902</td>\n",
              "      <td>83617</td>\n",
              "      <td>83930</td>\n",
              "      <td>72322</td>\n",
              "      <td>99566</td>\n",
              "    </tr>\n",
              "    <tr>\n",
              "      <th>7</th>\n",
              "      <td>84095</td>\n",
              "      <td>103429</td>\n",
              "      <td>103315</td>\n",
              "      <td>105035</td>\n",
              "      <td>79349</td>\n",
              "      <td>72219</td>\n",
              "      <td>80489</td>\n",
              "    </tr>\n",
              "    <tr>\n",
              "      <th>8</th>\n",
              "      <td>82983</td>\n",
              "      <td>80895</td>\n",
              "      <td>81773</td>\n",
              "      <td>82625</td>\n",
              "      <td>103878</td>\n",
              "      <td>86155</td>\n",
              "      <td>93970</td>\n",
              "    </tr>\n",
              "    <tr>\n",
              "      <th>9</th>\n",
              "      <td>94300</td>\n",
              "      <td>91533</td>\n",
              "      <td>74057</td>\n",
              "      <td>75589</td>\n",
              "      <td>75881</td>\n",
              "      <td>58343</td>\n",
              "      <td>71205</td>\n",
              "    </tr>\n",
              "    <tr>\n",
              "      <th>10</th>\n",
              "      <td>75131</td>\n",
              "      <td>72195</td>\n",
              "      <td>91900</td>\n",
              "      <td>94123</td>\n",
              "      <td>93894</td>\n",
              "      <td>58168</td>\n",
              "      <td>70794</td>\n",
              "    </tr>\n",
              "    <tr>\n",
              "      <th>11</th>\n",
              "      <td>74214</td>\n",
              "      <td>72443</td>\n",
              "      <td>73653</td>\n",
              "      <td>68071</td>\n",
              "      <td>70484</td>\n",
              "      <td>76031</td>\n",
              "      <td>88376</td>\n",
              "    </tr>\n",
              "    <tr>\n",
              "      <th>12</th>\n",
              "      <td>92700</td>\n",
              "      <td>90568</td>\n",
              "      <td>85241</td>\n",
              "      <td>70761</td>\n",
              "      <td>74306</td>\n",
              "      <td>61708</td>\n",
              "      <td>69674</td>\n",
              "    </tr>\n",
              "  </tbody>\n",
              "</table>\n",
              "</div>"
            ],
            "text/plain": [
              "DayOfWeek       1       2       3       4       5      6      7\n",
              "Month                                                          \n",
              "1           80807   97298  100080  102043   81940  67178  76419\n",
              "2           81504   79700   80587   82158  102726  66462  76099\n",
              "3          103210   81159   82307   82831   82936  86153  97494\n",
              "4           82463  100785  102586   82799   82964  68304  78225\n",
              "5           80626   79884   81264  102572  102878  84493  74576\n",
              "6          104168   82160   82902   83617   83930  72322  99566\n",
              "7           84095  103429  103315  105035   79349  72219  80489\n",
              "8           82983   80895   81773   82625  103878  86155  93970\n",
              "9           94300   91533   74057   75589   75881  58343  71205\n",
              "10          75131   72195   91900   94123   93894  58168  70794\n",
              "11          74214   72443   73653   68071   70484  76031  88376\n",
              "12          92700   90568   85241   70761   74306  61708  69674"
            ]
          },
          "metadata": {
            "tags": []
          },
          "execution_count": 87
        }
      ]
    },
    {
      "metadata": {
        "id": "Fx2NkyuHv8PH",
        "colab_type": "code",
        "outputId": "240f989b-5a7d-48b4-c2fc-4e001327b182",
        "colab": {
          "base_uri": "https://localhost:8080/",
          "height": 378
        }
      },
      "cell_type": "code",
      "source": [
        "flight.mean().plot()\n",
        "#plot the average number of flights on each day"
      ],
      "execution_count": 0,
      "outputs": [
        {
          "output_type": "execute_result",
          "data": {
            "text/plain": [
              "<matplotlib.axes._subplots.AxesSubplot at 0x7f22de956358>"
            ]
          },
          "metadata": {
            "tags": []
          },
          "execution_count": 90
        },
        {
          "output_type": "display_data",
          "data": {
            "image/png": "[encoded data removed]",
            "text/plain": [
              "<Figure size 576x396 with 1 Axes>"
            ]
          },
          "metadata": {
            "tags": []
          }
        }
      ]
    },
    {
      "metadata": {
        "id": "cVuBtJyTwDx1",
        "colab_type": "code",
        "outputId": "10cc4a6f-76a9-434b-ca07-4b8ec6cbd26a",
        "colab": {
          "base_uri": "https://localhost:8080/",
          "height": 378
        }
      },
      "cell_type": "code",
      "source": [
        "flight.T.mean().plot()\n",
        "#Plot the mean number of flights in each month, to do this we first transponse our table so that we average out flights per month instead of flights per day of week"
      ],
      "execution_count": 0,
      "outputs": [
        {
          "output_type": "execute_result",
          "data": {
            "text/plain": [
              "<matplotlib.axes._subplots.AxesSubplot at 0x7f22de956898>"
            ]
          },
          "metadata": {
            "tags": []
          },
          "execution_count": 92
        },
        {
          "output_type": "display_data",
          "data": {
            "image/png": "[encoded data removed]",
            "text/plain": [
              "<Figure size 576x396 with 1 Axes>"
            ]
          },
          "metadata": {
            "tags": []
          }
        }
      ]
    },
    {
      "metadata": {
        "id": "12DeAbA3wtpg",
        "colab_type": "text"
      },
      "cell_type": "markdown",
      "source": [
        "#Q 17"
      ]
    },
    {
      "metadata": {
        "id": "kUkpkqTuw7dJ",
        "colab_type": "text"
      },
      "cell_type": "markdown",
      "source": [
        "17. Examine the distribution of cancellation reasons with time. Make a bar plot of cancellation reasons aggregated by months. Choose all correct statements:\n",
        "\n",
        "  October has the lowest number of cancellations due to weather.\n",
        "  \n",
        "  The highest number of cancellations in September is due to Security reasons.\n",
        "\n",
        "  April's top cancellation reason is carriers.\n",
        "\n",
        "  Flights cancellations due to National Air System are more frequent than those due to carriers.\n",
        "  \n",
        "For this question i will show how to plot number cancellation reasons vs months . Selecting the correct statements should be done through intutiion and critical thinking\n",
        "To get the cancellation code meanings, visit [link](https://www.transtats.bts.gov/FieldInfo.asp?Field_Desc=Specifies%20The%20Reason%20For%20Cancellation&Field_Type=Char&Lookup_Table=L_CANCELLATION&Table_ID=236&SYS_Table_Name=T_ONTIME_REPORTING&Sys_Field_Name=CANCELLATION_CODE)\n",
        "   "
      ]
    },
    {
      "metadata": {
        "id": "T557Ct-kxgdo",
        "colab_type": "code",
        "outputId": "e6f5a930-f4f3-40c7-8f38-e875bb9096e9",
        "colab": {
          "base_uri": "https://localhost:8080/",
          "height": 378
        }
      },
      "cell_type": "code",
      "source": [
        "cancellationA = fdf.loc[fdf['CancellationCode'] == 'A']\n",
        "cancellationA.groupby(['Month']).size().plot(kind='bar')\n",
        "#Filter in all flights with cancellation code A and plot the number of flights vs months"
      ],
      "execution_count": 0,
      "outputs": [
        {
          "output_type": "execute_result",
          "data": {
            "text/plain": [
              "<matplotlib.axes._subplots.AxesSubplot at 0x7f22de652470>"
            ]
          },
          "metadata": {
            "tags": []
          },
          "execution_count": 96
        },
        {
          "output_type": "display_data",
          "data": {
            "image/png": "[encoded data removed]",
            "text/plain": [
              "<Figure size 576x396 with 1 Axes>"
            ]
          },
          "metadata": {
            "tags": []
          }
        }
      ]
    },
    {
      "metadata": {
        "id": "UdjN0_XNx4GG",
        "colab_type": "code",
        "outputId": "8115b512-c652-4d55-bdf7-78796a2475b8",
        "colab": {
          "base_uri": "https://localhost:8080/",
          "height": 378
        }
      },
      "cell_type": "code",
      "source": [
        "cancellationB = fdf.loc[fdf['CancellationCode'] == 'B']\n",
        "cancellationB.groupby(['Month']).size().plot(kind='bar')\n",
        "#Filter in all flights with cancellation code B and plot the number of flights vs months"
      ],
      "execution_count": 0,
      "outputs": [
        {
          "output_type": "execute_result",
          "data": {
            "text/plain": [
              "<matplotlib.axes._subplots.AxesSubplot at 0x7f22de99b0f0>"
            ]
          },
          "metadata": {
            "tags": []
          },
          "execution_count": 97
        },
        {
          "output_type": "display_data",
          "data": {
            "image/png": "[encoded data removed]",
            "text/plain": [
              "<Figure size 576x396 with 1 Axes>"
            ]
          },
          "metadata": {
            "tags": []
          }
        }
      ]
    },
    {
      "metadata": {
        "id": "Dy1bqreAyKcC",
        "colab_type": "code",
        "outputId": "4eb18f20-0e5b-4d6d-98a6-885fd61a1290",
        "colab": {
          "base_uri": "https://localhost:8080/",
          "height": 378
        }
      },
      "cell_type": "code",
      "source": [
        "cancellationC = fdf.loc[fdf['CancellationCode'] == 'C']\n",
        "cancellationC.groupby(['Month']).size().plot(kind='bar')\n",
        "#Filter in all flights with cancellation code A and plot the number of flights vs months"
      ],
      "execution_count": 0,
      "outputs": [
        {
          "output_type": "execute_result",
          "data": {
            "text/plain": [
              "<matplotlib.axes._subplots.AxesSubplot at 0x7f22dea1cd30>"
            ]
          },
          "metadata": {
            "tags": []
          },
          "execution_count": 98
        },
        {
          "output_type": "display_data",
          "data": {
            "image/png": "[encoded data removed]",
            "text/plain": [
              "<Figure size 576x396 with 1 Axes>"
            ]
          },
          "metadata": {
            "tags": []
          }
        }
      ]
    },
    {
      "metadata": {
        "id": "aNZFBJVryQit",
        "colab_type": "code",
        "outputId": "e85c991c-21b6-4bcc-9090-3ac741aa529c",
        "colab": {
          "base_uri": "https://localhost:8080/",
          "height": 378
        }
      },
      "cell_type": "code",
      "source": [
        "cancellationD = fdf.loc[fdf['CancellationCode'] == 'D']\n",
        "cancellationD.groupby(['Month']).size().plot(kind='bar')\n",
        "#Filter in all flights with cancellation code A and plot the number of flights vs months"
      ],
      "execution_count": 0,
      "outputs": [
        {
          "output_type": "execute_result",
          "data": {
            "text/plain": [
              "<matplotlib.axes._subplots.AxesSubplot at 0x7f22de9ec2b0>"
            ]
          },
          "metadata": {
            "tags": []
          },
          "execution_count": 99
        },
        {
          "output_type": "display_data",
          "data": {
            "image/png": "[encoded data removed]",
            "text/plain": [
              "<Figure size 576x396 with 1 Axes>"
            ]
          },
          "metadata": {
            "tags": []
          }
        }
      ]
    },
    {
      "metadata": {
        "id": "cdVmOetRyi4g",
        "colab_type": "text"
      },
      "cell_type": "markdown",
      "source": [
        "#Q 18"
      ]
    },
    {
      "metadata": {
        "id": "hSEi_XdAylDg",
        "colab_type": "text"
      },
      "cell_type": "markdown",
      "source": [
        "18. Which month has the greatest number of cancellations due to Carrier(CancellationCode = A)?\n",
        "\n",
        "From the above graphs, we can see that the 4th month (May) has the most cancellations due to Carreirs."
      ]
    },
    {
      "metadata": {
        "id": "iZekiIQ1yvwy",
        "colab_type": "text"
      },
      "cell_type": "markdown",
      "source": [
        "#Q 19"
      ]
    },
    {
      "metadata": {
        "id": "djv1A_Gfy2XY",
        "colab_type": "text"
      },
      "cell_type": "markdown",
      "source": [
        "19. Identify the carrier with the greatest number of cancellations due to carrier in the corresponding month from the previous question.\n",
        "\n",
        "We can do this by grouping all the flights that were cancelled due to carriers in may by carrier ids, and then find the carreir with the max number of cancellations. From the previous question we know the corrosponding month is the 4th Month"
      ]
    },
    {
      "metadata": {
        "id": "9rkshZ5hzDxL",
        "colab_type": "code",
        "outputId": "f053bd27-cf8f-4d22-ae34-f0dd94929f91",
        "colab": {
          "base_uri": "https://localhost:8080/",
          "height": 34
        }
      },
      "cell_type": "code",
      "source": [
        "#we have already filtered flights that have cancellation code A\n",
        "\n",
        "cancelledFlights = cancellationA.loc[cancellationA['Month'] == 4]\n",
        "#filter in all cancelled flights that happened in may\n",
        "\n",
        "cancelledFlights.groupby('UniqueCarrier').size().idxmax()\n",
        "#group flight by carrier ids and output the carrier with the most cancelled flights and output result"
      ],
      "execution_count": 0,
      "outputs": [
        {
          "output_type": "execute_result",
          "data": {
            "text/plain": [
              "'AA'"
            ]
          },
          "metadata": {
            "tags": []
          },
          "execution_count": 100
        }
      ]
    }
  ]
}