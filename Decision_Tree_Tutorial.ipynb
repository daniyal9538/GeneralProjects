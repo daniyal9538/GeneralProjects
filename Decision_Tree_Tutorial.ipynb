{
  "nbformat": 4,
  "nbformat_minor": 0,
  "metadata": {
    "colab": {
      "name": "Decision Tree Tutorial.ipynb",
      "version": "0.3.2",
      "provenance": [],
      "include_colab_link": true
    },
    "kernelspec": {
      "name": "python3",
      "display_name": "Python 3"
    }
  },
  "cells": [
    {
      "cell_type": "markdown",
      "metadata": {
        "id": "view-in-github",
        "colab_type": "text"
      },
      "source": [
        "<a href=\"https://colab.research.google.com/github/daniyal9538/GeneralProjects/blob/master/Decision_Tree_Tutorial.ipynb\" target=\"_parent\"><img src=\"https://colab.research.google.com/assets/colab-badge.svg\" alt=\"Open In Colab\"/></a>"
      ]
    },
    {
      "metadata": {
        "id": "QRvYHcO57JY2",
        "colab_type": "text"
      },
      "cell_type": "markdown",
      "source": [
        "#Simple tutorial on Decision Trees. Full tutorial article: https://exploringaiblog.wordpress.com/2019/02/28/an-intro-to-decision-trees-branching-out-in-machine-learning/"
      ]
    },
    {
      "metadata": {
        "id": "ogiCj4F97FxI",
        "colab_type": "text"
      },
      "cell_type": "markdown",
      "source": [
        "#Get dependencies"
      ]
    },
    {
      "metadata": {
        "id": "6F-M4oVCknRf",
        "colab_type": "code",
        "colab": {}
      },
      "cell_type": "code",
      "source": [
        "import pandas as pd\n",
        "import pydotplus #pip install pydotplus\n",
        "from sklearn.tree import export_graphviz\n",
        "from sklearn.tree import DecisionTreeClassifier\n",
        "import numpy as np"
      ],
      "execution_count": 0,
      "outputs": []
    },
    {
      "metadata": {
        "id": "UAAzR-EA7bJ9",
        "colab_type": "text"
      },
      "cell_type": "markdown",
      "source": [
        "#Create mock data"
      ]
    },
    {
      "metadata": {
        "id": "SkSWnRbblvEi",
        "colab_type": "code",
        "colab": {
          "base_uri": "https://localhost:8080/",
          "height": 370
        },
        "outputId": "f9cd10b8-fe0b-424c-adc2-6d492f3027d4"
      },
      "cell_type": "code",
      "source": [
        "data = pd.DataFrame({'P_Movies': [17,64,18,20,38,49,55,25,29,31,33], \n",
        "             'Gender': [1,0,1,0,1,0,0,1,1,0,1]})\n",
        "data =data.sort_values('P_Movies')\n",
        "data"
      ],
      "execution_count": 13,
      "outputs": [
        {
          "output_type": "execute_result",
          "data": {
            "text/html": [
              "<div>\n",
              "<style scoped>\n",
              "    .dataframe tbody tr th:only-of-type {\n",
              "        vertical-align: middle;\n",
              "    }\n",
              "\n",
              "    .dataframe tbody tr th {\n",
              "        vertical-align: top;\n",
              "    }\n",
              "\n",
              "    .dataframe thead th {\n",
              "        text-align: right;\n",
              "    }\n",
              "</style>\n",
              "<table border=\"1\" class=\"dataframe\">\n",
              "  <thead>\n",
              "    <tr style=\"text-align: right;\">\n",
              "      <th></th>\n",
              "      <th>Gender</th>\n",
              "      <th>P_Movies</th>\n",
              "    </tr>\n",
              "  </thead>\n",
              "  <tbody>\n",
              "    <tr>\n",
              "      <th>0</th>\n",
              "      <td>1</td>\n",
              "      <td>17</td>\n",
              "    </tr>\n",
              "    <tr>\n",
              "      <th>2</th>\n",
              "      <td>1</td>\n",
              "      <td>18</td>\n",
              "    </tr>\n",
              "    <tr>\n",
              "      <th>3</th>\n",
              "      <td>0</td>\n",
              "      <td>20</td>\n",
              "    </tr>\n",
              "    <tr>\n",
              "      <th>7</th>\n",
              "      <td>1</td>\n",
              "      <td>25</td>\n",
              "    </tr>\n",
              "    <tr>\n",
              "      <th>8</th>\n",
              "      <td>1</td>\n",
              "      <td>29</td>\n",
              "    </tr>\n",
              "    <tr>\n",
              "      <th>9</th>\n",
              "      <td>0</td>\n",
              "      <td>31</td>\n",
              "    </tr>\n",
              "    <tr>\n",
              "      <th>10</th>\n",
              "      <td>1</td>\n",
              "      <td>33</td>\n",
              "    </tr>\n",
              "    <tr>\n",
              "      <th>4</th>\n",
              "      <td>1</td>\n",
              "      <td>38</td>\n",
              "    </tr>\n",
              "    <tr>\n",
              "      <th>5</th>\n",
              "      <td>0</td>\n",
              "      <td>49</td>\n",
              "    </tr>\n",
              "    <tr>\n",
              "      <th>6</th>\n",
              "      <td>0</td>\n",
              "      <td>55</td>\n",
              "    </tr>\n",
              "    <tr>\n",
              "      <th>1</th>\n",
              "      <td>0</td>\n",
              "      <td>64</td>\n",
              "    </tr>\n",
              "  </tbody>\n",
              "</table>\n",
              "</div>"
            ],
            "text/plain": [
              "    Gender  P_Movies\n",
              "0        1        17\n",
              "2        1        18\n",
              "3        0        20\n",
              "7        1        25\n",
              "8        1        29\n",
              "9        0        31\n",
              "10       1        33\n",
              "4        1        38\n",
              "5        0        49\n",
              "6        0        55\n",
              "1        0        64"
            ]
          },
          "metadata": {
            "tags": []
          },
          "execution_count": 13
        }
      ]
    },
    {
      "metadata": {
        "id": "4Cr2wHiY7dgd",
        "colab_type": "text"
      },
      "cell_type": "markdown",
      "source": [
        "#Helper code to visualize tree"
      ]
    },
    {
      "metadata": {
        "id": "p_rX5UmQmn06",
        "colab_type": "code",
        "colab": {}
      },
      "cell_type": "code",
      "source": [
        "def tree_graph_to_png(tree, feature_names, png_file_to_save):\n",
        "    tree_str = export_graphviz(tree, feature_names=feature_names, \n",
        "                                     filled=True, out_file=None)\n",
        "    graph = pydotplus.graph_from_dot_data(tree_str)  \n",
        "    graph.write_png(png_file_to_save)"
      ],
      "execution_count": 0,
      "outputs": []
    },
    {
      "metadata": {
        "id": "evSeDfIS7fvs",
        "colab_type": "text"
      },
      "cell_type": "markdown",
      "source": [
        "#Train tree and get predictions"
      ]
    },
    {
      "metadata": {
        "id": "YTMLAouCmLay",
        "colab_type": "code",
        "colab": {},
        "cellView": "code"
      },
      "cell_type": "code",
      "source": [
        "#define Decision Tree\n",
        "dt = DecisionTreeClassifier(criterion = 'entropy')\n",
        "#Define input vectors\n",
        "#X is the features in this dataset\n",
        "X = data['P_Movies'].values.reshape(-1, 1)\n",
        "#Y is the vector with our Target Variables\n",
        "Y = data['Gender'].values\n",
        "#start fitting process\n",
        "dt.fit(X, Y)\n",
        "\n",
        "tree_graph_to_png(dt, feature_names=['P_Movies'], \n",
        "                 png_file_to_save='dt.png')"
      ],
      "execution_count": 0,
      "outputs": []
    },
    {
      "metadata": {
        "id": "c6edjakVqm9q",
        "colab_type": "code",
        "colab": {
          "base_uri": "https://localhost:8080/",
          "height": 35
        },
        "outputId": "eff1a47e-98c7-4552-ebef-ca1ada1bc07d"
      },
      "cell_type": "code",
      "source": [
        "d  = np.array([7, 15, 43, 45])\n",
        "d=d.reshape(-1, 1)\n",
        "\n",
        "dt.predict(d)"
      ],
      "execution_count": 22,
      "outputs": [
        {
          "output_type": "execute_result",
          "data": {
            "text/plain": [
              "array([1, 1, 1, 0])"
            ]
          },
          "metadata": {
            "tags": []
          },
          "execution_count": 22
        }
      ]
    }
  ]
}